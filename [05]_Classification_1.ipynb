{
  "cells": [
    {
      "cell_type": "markdown",
      "metadata": {
        "colab_type": "text",
        "id": "view-in-github"
      },
      "source": [
        "<a href=\"https://colab.research.google.com/github/MuhammedShiway/AICrowd-Mosquito/blob/main/%5B05%5D_Classification_1.ipynb\" target=\"_parent\"><img src=\"https://colab.research.google.com/assets/colab-badge.svg\" alt=\"Open In Colab\"/></a>"
      ]
    },
    {
      "cell_type": "code",
      "execution_count": 1,
      "metadata": {
        "colab": {
          "base_uri": "https://localhost:8080/"
        },
        "id": "2OmkJYHP_SGc",
        "outputId": "57cee805-df06-48fe-8ae0-4d1d2554f2c0"
      },
      "outputs": [
        {
          "name": "stdout",
          "output_type": "stream",
          "text": [
            "Mounted at /content/gdrive\n"
          ]
        }
      ],
      "source": [
        "from google.colab import drive\n",
        "drive.mount('/content/gdrive')"
      ]
    },
    {
      "cell_type": "code",
      "execution_count": null,
      "metadata": {
        "id": "Pr-pmVR5Hk-W"
      },
      "outputs": [],
      "source": [
        "pip install ultralytics"
      ]
    },
    {
      "cell_type": "markdown",
      "metadata": {
        "id": "6xcO3kZXNyRs"
      },
      "source": [
        "\n",
        "\n",
        "---\n",
        "\n",
        "# <center> PATHS </center>\n",
        "\n",
        "\n",
        "---\n",
        "\n"
      ]
    },
    {
      "cell_type": "code",
      "execution_count": 2,
      "metadata": {
        "id": "-SkX1ToQ_blE"
      },
      "outputs": [],
      "source": [
        "# IMAGE PATHS\n",
        "train_path = '/content/gdrive/MyDrive/Colab Notebooks/AI CROWD Mosquito/Dataset/Original /train_images'\n",
        "test_path = '/content/gdrive/MyDrive/Colab Notebooks/AI CROWD Mosquito/Dataset/Original /test_images_phase1'\n",
        "\n",
        "# CSV PATHS\n",
        "train_csv_path = '/content/gdrive/MyDrive/Colab Notebooks/AI CROWD Mosquito/Dataset/Original /train.csv'\n",
        "test_csv_path = '/content/gdrive/MyDrive/Colab Notebooks/AI CROWD Mosquito/Dataset/Original /test_phase1_v2.csv'\n",
        "\n",
        "# YOLO PATHS\n",
        "yolo_train = '/content/gdrive/MyDrive/Colab Notebooks/AI CROWD Mosquito/Dataset/YOLO/Train'\n",
        "yolo_test = '/content/gdrive/MyDrive/Colab Notebooks/AI CROWD Mosquito/Dataset/YOLO/Test'\n",
        "\n",
        "# MODEL PATHS\n",
        "model_path = '/content/gdrive/MyDrive/Colab Notebooks/AI CROWD Mosquito/Dataset/YOLO/Detection Models/RUN 7.pt'\n",
        "\n",
        "# CROPPED PATHS\n",
        "train_csv_crop = '/content/gdrive/MyDrive/Colab Notebooks/AI CROWD Mosquito/Dataset/Cropped/Train_CSV'\n",
        "train_yolo_crop = '/content/gdrive/MyDrive/Colab Notebooks/AI CROWD Mosquito/Dataset/Cropped/Train_YOLO'\n",
        "test_crop = '/content/gdrive/MyDrive/Colab Notebooks/AI CROWD Mosquito/Dataset/Cropped/Test'\n",
        "\n",
        "\n",
        "csv_file = train_csv_path"
      ]
    },
    {
      "cell_type": "markdown",
      "metadata": {
        "id": "7yi0_yUlAGmP"
      },
      "source": [
        "\n",
        "\n",
        "---\n",
        "\n",
        "# <center> IMPORT MODULES AND LIBRARIES </center>\n",
        "\n",
        "\n",
        "---\n",
        "\n"
      ]
    },
    {
      "cell_type": "code",
      "execution_count": 3,
      "metadata": {
        "id": "aPFvEd68_9Ds"
      },
      "outputs": [],
      "source": [
        "import os\n",
        "import random\n",
        "import shutil\n",
        "import csv\n",
        "import torch\n",
        "import pandas as pd\n",
        "from tqdm import tqdm\n",
        "from PIL import Image\n",
        "%matplotlib inline\n",
        "from pprint import pprint\n",
        "import matplotlib.pyplot as plt\n",
        "import matplotlib.patches as patches\n",
        "import torchvision.models as models\n",
        "from torchvision import transforms, datasets\n",
        "from sklearn.model_selection import train_test_split\n",
        "from torch.utils.data import DataLoader, random_split\n"
      ]
    },
    {
      "cell_type": "markdown",
      "metadata": {
        "id": "QFvJKN30SxOr"
      },
      "source": [
        "\n",
        "\n",
        "---\n",
        "\n",
        "# <center> FOLDER CONTENT DELETER </center>\n",
        "\n",
        "\n",
        "---\n",
        "\n"
      ]
    },
    {
      "cell_type": "code",
      "execution_count": null,
      "metadata": {
        "id": "PIDw0Ew1Sv14"
      },
      "outputs": [],
      "source": [
        "def delete_folder_contents(folder_path):\n",
        "    for filename in os.listdir(folder_path):\n",
        "        file_path = os.path.join(folder_path, filename)\n",
        "        try:\n",
        "            if os.path.isfile(file_path) or os.path.islink(file_path):\n",
        "                os.unlink(file_path)\n",
        "            elif os.path.isdir(file_path):\n",
        "                shutil.rmtree(file_path)\n",
        "        except Exception as e:\n",
        "            print('Failed to delete %s. Reason: %s' % (file_path, e))\n",
        "\n"
      ]
    },
    {
      "cell_type": "markdown",
      "metadata": {
        "id": "6TfT80MQTWcJ"
      },
      "source": [
        "\n",
        "\n",
        "\n",
        "---\n",
        "\n",
        "# <center> CSV FILE </center>\n",
        "\n",
        "\n",
        "---\n",
        "\n",
        "\n",
        "\n"
      ]
    },
    {
      "cell_type": "code",
      "execution_count": 4,
      "metadata": {
        "colab": {
          "base_uri": "https://localhost:8080/",
          "height": 206
        },
        "id": "amCA1SIn-XYZ",
        "outputId": "8310902d-dfd4-439c-8501-10712e99fdac"
      },
      "outputs": [
        {
          "data": {
            "text/html": [
              "\n",
              "\n",
              "  <div id=\"df-7cf43df3-cb3f-4ed8-b632-bae5147c7bc1\">\n",
              "    <div class=\"colab-df-container\">\n",
              "      <div>\n",
              "<style scoped>\n",
              "    .dataframe tbody tr th:only-of-type {\n",
              "        vertical-align: middle;\n",
              "    }\n",
              "\n",
              "    .dataframe tbody tr th {\n",
              "        vertical-align: top;\n",
              "    }\n",
              "\n",
              "    .dataframe thead th {\n",
              "        text-align: right;\n",
              "    }\n",
              "</style>\n",
              "<table border=\"1\" class=\"dataframe\">\n",
              "  <thead>\n",
              "    <tr style=\"text-align: right;\">\n",
              "      <th></th>\n",
              "      <th>img_fName</th>\n",
              "      <th>img_w</th>\n",
              "      <th>img_h</th>\n",
              "      <th>bbx_xtl</th>\n",
              "      <th>bbx_ytl</th>\n",
              "      <th>bbx_xbr</th>\n",
              "      <th>bbx_ybr</th>\n",
              "      <th>class_label</th>\n",
              "    </tr>\n",
              "  </thead>\n",
              "  <tbody>\n",
              "    <tr>\n",
              "      <th>0</th>\n",
              "      <td>92715872-3287-4bff-aa61-7047973e5c02.jpeg</td>\n",
              "      <td>2448</td>\n",
              "      <td>3264</td>\n",
              "      <td>1301</td>\n",
              "      <td>1546</td>\n",
              "      <td>1641</td>\n",
              "      <td>2096</td>\n",
              "      <td>albopictus</td>\n",
              "    </tr>\n",
              "    <tr>\n",
              "      <th>1</th>\n",
              "      <td>b0f7cc74-2272-4756-a387-38bcaf6965c8.jpeg</td>\n",
              "      <td>3024</td>\n",
              "      <td>4032</td>\n",
              "      <td>900</td>\n",
              "      <td>1897</td>\n",
              "      <td>1950</td>\n",
              "      <td>2990</td>\n",
              "      <td>albopictus</td>\n",
              "    </tr>\n",
              "    <tr>\n",
              "      <th>2</th>\n",
              "      <td>82df4b68-0f45-4afe-9215-48488bf3720e.jpeg</td>\n",
              "      <td>768</td>\n",
              "      <td>1024</td>\n",
              "      <td>220</td>\n",
              "      <td>58</td>\n",
              "      <td>659</td>\n",
              "      <td>808</td>\n",
              "      <td>albopictus</td>\n",
              "    </tr>\n",
              "    <tr>\n",
              "      <th>3</th>\n",
              "      <td>331ad30a-7564-4478-b863-7bc760adf5a1.jpeg</td>\n",
              "      <td>3456</td>\n",
              "      <td>4608</td>\n",
              "      <td>1169</td>\n",
              "      <td>2364</td>\n",
              "      <td>1586</td>\n",
              "      <td>2826</td>\n",
              "      <td>albopictus</td>\n",
              "    </tr>\n",
              "    <tr>\n",
              "      <th>4</th>\n",
              "      <td>1a46dbfb-104e-466b-88d7-98958d7b1fe9.jpeg</td>\n",
              "      <td>1024</td>\n",
              "      <td>1365</td>\n",
              "      <td>129</td>\n",
              "      <td>231</td>\n",
              "      <td>697</td>\n",
              "      <td>1007</td>\n",
              "      <td>culex</td>\n",
              "    </tr>\n",
              "  </tbody>\n",
              "</table>\n",
              "</div>\n",
              "      <button class=\"colab-df-convert\" onclick=\"convertToInteractive('df-7cf43df3-cb3f-4ed8-b632-bae5147c7bc1')\"\n",
              "              title=\"Convert this dataframe to an interactive table.\"\n",
              "              style=\"display:none;\">\n",
              "\n",
              "  <svg xmlns=\"http://www.w3.org/2000/svg\" height=\"24px\"viewBox=\"0 0 24 24\"\n",
              "       width=\"24px\">\n",
              "    <path d=\"M0 0h24v24H0V0z\" fill=\"none\"/>\n",
              "    <path d=\"M18.56 5.44l.94 2.06.94-2.06 2.06-.94-2.06-.94-.94-2.06-.94 2.06-2.06.94zm-11 1L8.5 8.5l.94-2.06 2.06-.94-2.06-.94L8.5 2.5l-.94 2.06-2.06.94zm10 10l.94 2.06.94-2.06 2.06-.94-2.06-.94-.94-2.06-.94 2.06-2.06.94z\"/><path d=\"M17.41 7.96l-1.37-1.37c-.4-.4-.92-.59-1.43-.59-.52 0-1.04.2-1.43.59L10.3 9.45l-7.72 7.72c-.78.78-.78 2.05 0 2.83L4 21.41c.39.39.9.59 1.41.59.51 0 1.02-.2 1.41-.59l7.78-7.78 2.81-2.81c.8-.78.8-2.07 0-2.86zM5.41 20L4 18.59l7.72-7.72 1.47 1.35L5.41 20z\"/>\n",
              "  </svg>\n",
              "      </button>\n",
              "\n",
              "\n",
              "\n",
              "    <div id=\"df-07f51ede-632b-4c1d-acdd-3eacf327b5d9\">\n",
              "      <button class=\"colab-df-quickchart\" onclick=\"quickchart('df-07f51ede-632b-4c1d-acdd-3eacf327b5d9')\"\n",
              "              title=\"Suggest charts.\"\n",
              "              style=\"display:none;\">\n",
              "\n",
              "<svg xmlns=\"http://www.w3.org/2000/svg\" height=\"24px\"viewBox=\"0 0 24 24\"\n",
              "     width=\"24px\">\n",
              "    <g>\n",
              "        <path d=\"M19 3H5c-1.1 0-2 .9-2 2v14c0 1.1.9 2 2 2h14c1.1 0 2-.9 2-2V5c0-1.1-.9-2-2-2zM9 17H7v-7h2v7zm4 0h-2V7h2v10zm4 0h-2v-4h2v4z\"/>\n",
              "    </g>\n",
              "</svg>\n",
              "      </button>\n",
              "    </div>\n",
              "\n",
              "<style>\n",
              "  .colab-df-quickchart {\n",
              "    background-color: #E8F0FE;\n",
              "    border: none;\n",
              "    border-radius: 50%;\n",
              "    cursor: pointer;\n",
              "    display: none;\n",
              "    fill: #1967D2;\n",
              "    height: 32px;\n",
              "    padding: 0 0 0 0;\n",
              "    width: 32px;\n",
              "  }\n",
              "\n",
              "  .colab-df-quickchart:hover {\n",
              "    background-color: #E2EBFA;\n",
              "    box-shadow: 0px 1px 2px rgba(60, 64, 67, 0.3), 0px 1px 3px 1px rgba(60, 64, 67, 0.15);\n",
              "    fill: #174EA6;\n",
              "  }\n",
              "\n",
              "  [theme=dark] .colab-df-quickchart {\n",
              "    background-color: #3B4455;\n",
              "    fill: #D2E3FC;\n",
              "  }\n",
              "\n",
              "  [theme=dark] .colab-df-quickchart:hover {\n",
              "    background-color: #434B5C;\n",
              "    box-shadow: 0px 1px 3px 1px rgba(0, 0, 0, 0.15);\n",
              "    filter: drop-shadow(0px 1px 2px rgba(0, 0, 0, 0.3));\n",
              "    fill: #FFFFFF;\n",
              "  }\n",
              "</style>\n",
              "\n",
              "    <script>\n",
              "      async function quickchart(key) {\n",
              "        const containerElement = document.querySelector('#' + key);\n",
              "        const charts = await google.colab.kernel.invokeFunction(\n",
              "            'suggestCharts', [key], {});\n",
              "      }\n",
              "    </script>\n",
              "\n",
              "      <script>\n",
              "\n",
              "function displayQuickchartButton(domScope) {\n",
              "  let quickchartButtonEl =\n",
              "    domScope.querySelector('#df-07f51ede-632b-4c1d-acdd-3eacf327b5d9 button.colab-df-quickchart');\n",
              "  quickchartButtonEl.style.display =\n",
              "    google.colab.kernel.accessAllowed ? 'block' : 'none';\n",
              "}\n",
              "\n",
              "        displayQuickchartButton(document);\n",
              "      </script>\n",
              "      <style>\n",
              "    .colab-df-container {\n",
              "      display:flex;\n",
              "      flex-wrap:wrap;\n",
              "      gap: 12px;\n",
              "    }\n",
              "\n",
              "    .colab-df-convert {\n",
              "      background-color: #E8F0FE;\n",
              "      border: none;\n",
              "      border-radius: 50%;\n",
              "      cursor: pointer;\n",
              "      display: none;\n",
              "      fill: #1967D2;\n",
              "      height: 32px;\n",
              "      padding: 0 0 0 0;\n",
              "      width: 32px;\n",
              "    }\n",
              "\n",
              "    .colab-df-convert:hover {\n",
              "      background-color: #E2EBFA;\n",
              "      box-shadow: 0px 1px 2px rgba(60, 64, 67, 0.3), 0px 1px 3px 1px rgba(60, 64, 67, 0.15);\n",
              "      fill: #174EA6;\n",
              "    }\n",
              "\n",
              "    [theme=dark] .colab-df-convert {\n",
              "      background-color: #3B4455;\n",
              "      fill: #D2E3FC;\n",
              "    }\n",
              "\n",
              "    [theme=dark] .colab-df-convert:hover {\n",
              "      background-color: #434B5C;\n",
              "      box-shadow: 0px 1px 3px 1px rgba(0, 0, 0, 0.15);\n",
              "      filter: drop-shadow(0px 1px 2px rgba(0, 0, 0, 0.3));\n",
              "      fill: #FFFFFF;\n",
              "    }\n",
              "  </style>\n",
              "\n",
              "      <script>\n",
              "        const buttonEl =\n",
              "          document.querySelector('#df-7cf43df3-cb3f-4ed8-b632-bae5147c7bc1 button.colab-df-convert');\n",
              "        buttonEl.style.display =\n",
              "          google.colab.kernel.accessAllowed ? 'block' : 'none';\n",
              "\n",
              "        async function convertToInteractive(key) {\n",
              "          const element = document.querySelector('#df-7cf43df3-cb3f-4ed8-b632-bae5147c7bc1');\n",
              "          const dataTable =\n",
              "            await google.colab.kernel.invokeFunction('convertToInteractive',\n",
              "                                                     [key], {});\n",
              "          if (!dataTable) return;\n",
              "\n",
              "          const docLinkHtml = 'Like what you see? Visit the ' +\n",
              "            '<a target=\"_blank\" href=https://colab.research.google.com/notebooks/data_table.ipynb>data table notebook</a>'\n",
              "            + ' to learn more about interactive tables.';\n",
              "          element.innerHTML = '';\n",
              "          dataTable['output_type'] = 'display_data';\n",
              "          await google.colab.output.renderOutput(dataTable, element);\n",
              "          const docLink = document.createElement('div');\n",
              "          docLink.innerHTML = docLinkHtml;\n",
              "          element.appendChild(docLink);\n",
              "        }\n",
              "      </script>\n",
              "    </div>\n",
              "  </div>\n"
            ],
            "text/plain": [
              "                                   img_fName  img_w  img_h  bbx_xtl  bbx_ytl  \\\n",
              "0  92715872-3287-4bff-aa61-7047973e5c02.jpeg   2448   3264     1301     1546   \n",
              "1  b0f7cc74-2272-4756-a387-38bcaf6965c8.jpeg   3024   4032      900     1897   \n",
              "2  82df4b68-0f45-4afe-9215-48488bf3720e.jpeg    768   1024      220       58   \n",
              "3  331ad30a-7564-4478-b863-7bc760adf5a1.jpeg   3456   4608     1169     2364   \n",
              "4  1a46dbfb-104e-466b-88d7-98958d7b1fe9.jpeg   1024   1365      129      231   \n",
              "\n",
              "   bbx_xbr  bbx_ybr class_label  \n",
              "0     1641     2096  albopictus  \n",
              "1     1950     2990  albopictus  \n",
              "2      659      808  albopictus  \n",
              "3     1586     2826  albopictus  \n",
              "4      697     1007       culex  "
            ]
          },
          "execution_count": 4,
          "metadata": {},
          "output_type": "execute_result"
        }
      ],
      "source": [
        "df = pd.read_csv(csv_file)\n",
        "\n",
        "df.head()"
      ]
    },
    {
      "cell_type": "code",
      "execution_count": 50,
      "metadata": {
        "colab": {
          "base_uri": "https://localhost:8080/"
        },
        "id": "ZMjvwaY2jktm",
        "outputId": "824c8cdc-aff0-494c-9385-3f13c01f7ce3"
      },
      "outputs": [
        {
          "data": {
            "text/plain": [
              "array(['albopictus', 'culex', 'anopheles', 'culiseta',\n",
              "       'japonicus/koreicus', 'aegypti'], dtype=object)"
            ]
          },
          "execution_count": 50,
          "metadata": {},
          "output_type": "execute_result"
        }
      ],
      "source": [
        "df['class_label'].unique()"
      ]
    },
    {
      "cell_type": "code",
      "execution_count": 67,
      "metadata": {
        "colab": {
          "base_uri": "https://localhost:8080/"
        },
        "id": "JxVi6kB1mAYv",
        "outputId": "689f7971-af9e-4fdf-ef5c-d30167cc77be"
      },
      "outputs": [
        {
          "data": {
            "text/plain": [
              "albopictus            3567\n",
              "culex                 3544\n",
              "culiseta               492\n",
              "japonicus/koreicus     321\n",
              "anopheles               63\n",
              "aegypti                 38\n",
              "Name: class_label, dtype: int64"
            ]
          },
          "execution_count": 67,
          "metadata": {},
          "output_type": "execute_result"
        }
      ],
      "source": [
        "df['class_label'].value_counts()"
      ]
    },
    {
      "cell_type": "markdown",
      "metadata": {
        "id": "y-2JJ9vQl10t"
      },
      "source": [
        "\n",
        "\n",
        "---\n",
        "\n",
        "# <center> TRANSFORMS </center>\n",
        "\n",
        "\n",
        "---\n",
        "\n"
      ]
    },
    {
      "cell_type": "code",
      "execution_count": 75,
      "metadata": {
        "id": "fjurn3-HTtcp"
      },
      "outputs": [],
      "source": [
        "img_names = df['img_fName'].tolist()\n",
        "general_labels = df['class_label'].tolist()"
      ]
    },
    {
      "cell_type": "code",
      "execution_count": null,
      "metadata": {
        "id": "eaDD82wQmeQ9"
      },
      "outputs": [],
      "source": [
        "general_labels"
      ]
    },
    {
      "cell_type": "code",
      "execution_count": 38,
      "metadata": {
        "id": "0EAuqWeqUDxJ"
      },
      "outputs": [],
      "source": [
        "transform = transforms.Compose([\n",
        "    transforms.Resize((384,384)),\n",
        "    transforms.ToTensor(),\n",
        "    transforms.Normalize(mean=[0.5, 0.5, 0.5], std=[0.5, 0.5, 0.5])\n",
        "])"
      ]
    },
    {
      "cell_type": "code",
      "execution_count": 71,
      "metadata": {
        "id": "4g0TnQlLj2zW"
      },
      "outputs": [],
      "source": [
        "all_labels = ['albopictus', 'culex', 'anopheles', 'culiseta', 'japonicus/koreicus', 'aegypti']\n",
        "label_to_int = {label: idx for idx, label in enumerate(all_labels)}"
      ]
    },
    {
      "cell_type": "code",
      "execution_count": 72,
      "metadata": {
        "colab": {
          "base_uri": "https://localhost:8080/"
        },
        "id": "_B3H1TrqmtQh",
        "outputId": "8072b5c5-a99c-4736-a9ff-a7ced8990480"
      },
      "outputs": [
        {
          "data": {
            "text/plain": [
              "{'albopictus': 0,\n",
              " 'culex': 1,\n",
              " 'anopheles': 2,\n",
              " 'culiseta': 3,\n",
              " 'japonicus/koreicus': 4,\n",
              " 'aegypti': 5}"
            ]
          },
          "execution_count": 72,
          "metadata": {},
          "output_type": "execute_result"
        }
      ],
      "source": [
        "label_to_int"
      ]
    },
    {
      "cell_type": "markdown",
      "metadata": {
        "id": "Z8It47GbrZlu"
      },
      "source": [
        "\n",
        "\n",
        "---\n",
        "\n",
        "# <center> CUSTOM DATALOADER </center>\n",
        "\n",
        "\n",
        "---\n",
        "\n"
      ]
    },
    {
      "cell_type": "code",
      "execution_count": 53,
      "metadata": {
        "id": "BmvV4yR9UEtZ"
      },
      "outputs": [],
      "source": [
        "class CustomDataset(torch.utils.data.Dataset):\n",
        "    def __init__(self, img_names, labels, root_dir, transform=None):\n",
        "        self.img_names = img_names\n",
        "        self.labels = labels\n",
        "        self.root_dir = root_dir\n",
        "        self.transform = transform\n",
        "\n",
        "    def __len__(self):\n",
        "        return len(self.img_names)\n",
        "\n",
        "    def __getitem__(self, idx):\n",
        "        img_path = os.path.join(self.root_dir, self.img_names[idx])\n",
        "        image = Image.open(img_path)\n",
        "        label_str = self.labels[idx]\n",
        "        label = label_to_int[label_str]\n",
        "        # this label returns the integer (0 to 5) corresponding to the species\n",
        "\n",
        "        if self.transform:\n",
        "            image = self.transform(image)\n",
        "\n",
        "        return image, label\n"
      ]
    },
    {
      "cell_type": "code",
      "execution_count": 77,
      "metadata": {
        "id": "WluO68ApUphM"
      },
      "outputs": [],
      "source": [
        "dataset = CustomDataset(img_names, general_labels, root_dir=train_csv_crop, transform=transform)\n",
        "train_size = int(0.8 * len(dataset))\n",
        "val_size = len(dataset) - train_size\n",
        "train_dataset, val_dataset = random_split(dataset, [train_size, val_size])\n"
      ]
    },
    {
      "cell_type": "code",
      "execution_count": 78,
      "metadata": {
        "id": "ymz61Hi1UsEp"
      },
      "outputs": [],
      "source": [
        "train_loader = DataLoader(train_dataset, batch_size=32, shuffle=True)\n",
        "val_loader = DataLoader(val_dataset, batch_size=32, shuffle=False)"
      ]
    },
    {
      "cell_type": "markdown",
      "metadata": {
        "id": "SkeC7NvKrfn7"
      },
      "source": [
        "\n",
        "\n",
        "---\n",
        "\n",
        "# <center> DEFINING / SELECTING MODEL </center>\n",
        "\n",
        "\n",
        "---\n",
        "\n"
      ]
    },
    {
      "cell_type": "code",
      "execution_count": 80,
      "metadata": {
        "id": "7wybrUf7Uuai"
      },
      "outputs": [],
      "source": [
        "model = models.resnet18(pretrained=True)\n",
        "num_ftrs = model.fc.in_features\n",
        "model.fc = torch.nn.Linear(num_ftrs, len(set(general_labels)))"
      ]
    },
    {
      "cell_type": "code",
      "execution_count": null,
      "metadata": {
        "id": "EcwbLANfUwmA"
      },
      "outputs": [],
      "source": [
        "device = torch.device(\"cuda:0\" if torch.cuda.is_available() else \"cpu\")\n",
        "model.to(device)\n",
        "pprint(device)"
      ]
    },
    {
      "cell_type": "code",
      "execution_count": 82,
      "metadata": {
        "id": "ZMI34-z-U8ES"
      },
      "outputs": [],
      "source": [
        "import torch.optim as optim\n",
        "\n",
        "criterion = torch.nn.CrossEntropyLoss()\n",
        "optimizer = optim.SGD(model.parameters(), lr=0.001, momentum=0.9)"
      ]
    },
    {
      "cell_type": "code",
      "execution_count": 84,
      "metadata": {
        "colab": {
          "base_uri": "https://localhost:8080/"
        },
        "id": "CpPU5uVjinaF",
        "outputId": "30984784-9b67-4ca6-ed4f-809c73535705"
      },
      "outputs": [
        {
          "name": "stdout",
          "output_type": "stream",
          "text": [
            "<class 'torch.Tensor'> <class 'torch.Tensor'>\n",
            "torch.Size([32, 3, 384, 384]) torch.Size([32])\n"
          ]
        }
      ],
      "source": [
        "for inputs, labels in train_loader:\n",
        "    print(type(inputs), type(labels))\n",
        "    print(inputs.shape, labels.shape)\n",
        "    break"
      ]
    },
    {
      "cell_type": "markdown",
      "metadata": {
        "id": "T3u1RjGZrvKA"
      },
      "source": [
        "\n",
        "\n",
        "---\n",
        "\n",
        "# <center> MODEL TRAINING </center>\n",
        "\n",
        "\n",
        "---\n",
        "\n"
      ]
    },
    {
      "cell_type": "code",
      "execution_count": 87,
      "metadata": {
        "id": "awfIFq34Vo4y"
      },
      "outputs": [],
      "source": [
        "def train_model(model, criterion, optimizer, num_epochs=25):\n",
        "    for epoch in range(num_epochs):\n",
        "        print(f\"Epoch {epoch+1}/{num_epochs}\")\n",
        "        print(\"-\" * 10)\n",
        "\n",
        "        # Each epoch has a training and validation phase\n",
        "        for phase in ['train', 'val']:\n",
        "            if phase == 'train':\n",
        "                model.train()  \n",
        "                dataloader = train_loader\n",
        "            else:\n",
        "                model.eval()   \n",
        "                dataloader = val_loader\n",
        "\n",
        "            running_loss = 0.0\n",
        "            correct_preds = 0\n",
        "\n",
        "            pbar = tqdm(dataloader, desc=f\"{phase} progress\", unit=\"batch\")\n",
        "\n",
        "            for inputs, labels in pbar:\n",
        "                inputs, labels = inputs.to(device), labels.to(device)\n",
        "\n",
        "                optimizer.zero_grad()\n",
        "\n",
        "                with torch.set_grad_enabled(phase == 'train'):\n",
        "                    outputs = model(inputs)\n",
        "                    _, preds = torch.max(outputs, 1)\n",
        "                    loss = criterion(outputs, labels)\n",
        "\n",
        "                    if phase == 'train':\n",
        "                        loss.backward()\n",
        "                        optimizer.step()\n",
        "\n",
        "                running_loss += loss.item() * inputs.size(0)\n",
        "                correct_preds += torch.sum(preds == labels.data)\n",
        "\n",
        "                pbar.set_postfix(loss=loss.item())\n",
        "\n",
        "            epoch_loss = running_loss / len(dataloader.dataset)\n",
        "            epoch_acc = correct_preds.double() / len(dataloader.dataset)\n",
        "\n",
        "            print(f\"{phase} Loss: {epoch_loss:.4f} Acc: {epoch_acc:.4f}\")\n",
        "        print()\n",
        "\n",
        "    return model\n"
      ]
    },
    {
      "cell_type": "code",
      "execution_count": 88,
      "metadata": {
        "colab": {
          "base_uri": "https://localhost:8080/"
        },
        "id": "Atpe7nTPVuAH",
        "outputId": "61cfd87c-767a-4da3-9647-6b5bcbcb6595"
      },
      "outputs": [
        {
          "name": "stdout",
          "output_type": "stream",
          "text": [
            "Epoch 1/25\n",
            "----------\n"
          ]
        },
        {
          "name": "stderr",
          "output_type": "stream",
          "text": [
            "train progress: 100%|██████████| 201/201 [14:44<00:00,  4.40s/batch, loss=0.169]\n"
          ]
        },
        {
          "name": "stdout",
          "output_type": "stream",
          "text": [
            "train Loss: 0.4519 Acc: 0.8621\n"
          ]
        },
        {
          "name": "stderr",
          "output_type": "stream",
          "text": [
            "val progress: 100%|██████████| 51/51 [05:48<00:00,  6.82s/batch, loss=0.0486]\n"
          ]
        },
        {
          "name": "stdout",
          "output_type": "stream",
          "text": [
            "val Loss: 0.3793 Acc: 0.8879\n",
            "\n",
            "Epoch 2/25\n",
            "----------\n"
          ]
        },
        {
          "name": "stderr",
          "output_type": "stream",
          "text": [
            "train progress: 100%|██████████| 201/201 [02:18<00:00,  1.46batch/s, loss=0.561]\n"
          ]
        },
        {
          "name": "stdout",
          "output_type": "stream",
          "text": [
            "train Loss: 0.3246 Acc: 0.8983\n"
          ]
        },
        {
          "name": "stderr",
          "output_type": "stream",
          "text": [
            "val progress: 100%|██████████| 51/51 [00:27<00:00,  1.88batch/s, loss=0.0144]\n"
          ]
        },
        {
          "name": "stdout",
          "output_type": "stream",
          "text": [
            "val Loss: 0.3390 Acc: 0.8978\n",
            "\n",
            "Epoch 3/25\n",
            "----------\n"
          ]
        },
        {
          "name": "stderr",
          "output_type": "stream",
          "text": [
            "train progress: 100%|██████████| 201/201 [02:18<00:00,  1.46batch/s, loss=0.223]\n"
          ]
        },
        {
          "name": "stdout",
          "output_type": "stream",
          "text": [
            "train Loss: 0.2615 Acc: 0.9165\n"
          ]
        },
        {
          "name": "stderr",
          "output_type": "stream",
          "text": [
            "val progress: 100%|██████████| 51/51 [00:27<00:00,  1.88batch/s, loss=0.0159]\n"
          ]
        },
        {
          "name": "stdout",
          "output_type": "stream",
          "text": [
            "val Loss: 0.3457 Acc: 0.8885\n",
            "\n",
            "Epoch 4/25\n",
            "----------\n"
          ]
        },
        {
          "name": "stderr",
          "output_type": "stream",
          "text": [
            "train progress: 100%|██████████| 201/201 [02:17<00:00,  1.47batch/s, loss=0.273]\n"
          ]
        },
        {
          "name": "stdout",
          "output_type": "stream",
          "text": [
            "train Loss: 0.2079 Acc: 0.9321\n"
          ]
        },
        {
          "name": "stderr",
          "output_type": "stream",
          "text": [
            "val progress: 100%|██████████| 51/51 [00:27<00:00,  1.87batch/s, loss=0.00925]\n"
          ]
        },
        {
          "name": "stdout",
          "output_type": "stream",
          "text": [
            "val Loss: 0.3241 Acc: 0.8953\n",
            "\n",
            "Epoch 5/25\n",
            "----------\n"
          ]
        },
        {
          "name": "stderr",
          "output_type": "stream",
          "text": [
            "train progress: 100%|██████████| 201/201 [02:17<00:00,  1.46batch/s, loss=0.0935]\n"
          ]
        },
        {
          "name": "stdout",
          "output_type": "stream",
          "text": [
            "train Loss: 0.1551 Acc: 0.9512\n"
          ]
        },
        {
          "name": "stderr",
          "output_type": "stream",
          "text": [
            "val progress: 100%|██████████| 51/51 [00:27<00:00,  1.87batch/s, loss=0.00322]\n"
          ]
        },
        {
          "name": "stdout",
          "output_type": "stream",
          "text": [
            "val Loss: 0.3092 Acc: 0.9034\n",
            "\n",
            "Epoch 6/25\n",
            "----------\n"
          ]
        },
        {
          "name": "stderr",
          "output_type": "stream",
          "text": [
            "train progress: 100%|██████████| 201/201 [02:17<00:00,  1.46batch/s, loss=0.233]\n"
          ]
        },
        {
          "name": "stdout",
          "output_type": "stream",
          "text": [
            "train Loss: 0.1107 Acc: 0.9674\n"
          ]
        },
        {
          "name": "stderr",
          "output_type": "stream",
          "text": [
            "val progress: 100%|██████████| 51/51 [00:27<00:00,  1.88batch/s, loss=0.00498]\n"
          ]
        },
        {
          "name": "stdout",
          "output_type": "stream",
          "text": [
            "val Loss: 0.3359 Acc: 0.8991\n",
            "\n",
            "Epoch 7/25\n",
            "----------\n"
          ]
        },
        {
          "name": "stderr",
          "output_type": "stream",
          "text": [
            "train progress: 100%|██████████| 201/201 [02:17<00:00,  1.46batch/s, loss=0.22]\n"
          ]
        },
        {
          "name": "stdout",
          "output_type": "stream",
          "text": [
            "train Loss: 0.0921 Acc: 0.9749\n"
          ]
        },
        {
          "name": "stderr",
          "output_type": "stream",
          "text": [
            "val progress: 100%|██████████| 51/51 [00:27<00:00,  1.88batch/s, loss=0.00803]\n"
          ]
        },
        {
          "name": "stdout",
          "output_type": "stream",
          "text": [
            "val Loss: 0.3250 Acc: 0.9065\n",
            "\n",
            "Epoch 8/25\n",
            "----------\n"
          ]
        },
        {
          "name": "stderr",
          "output_type": "stream",
          "text": [
            "train progress: 100%|██████████| 201/201 [02:17<00:00,  1.46batch/s, loss=0.0517]\n"
          ]
        },
        {
          "name": "stdout",
          "output_type": "stream",
          "text": [
            "train Loss: 0.0698 Acc: 0.9815\n"
          ]
        },
        {
          "name": "stderr",
          "output_type": "stream",
          "text": [
            "val progress: 100%|██████████| 51/51 [00:27<00:00,  1.87batch/s, loss=0.00516]\n"
          ]
        },
        {
          "name": "stdout",
          "output_type": "stream",
          "text": [
            "val Loss: 0.3228 Acc: 0.9078\n",
            "\n",
            "Epoch 9/25\n",
            "----------\n"
          ]
        },
        {
          "name": "stderr",
          "output_type": "stream",
          "text": [
            "train progress: 100%|██████████| 201/201 [02:17<00:00,  1.46batch/s, loss=0.0424]\n"
          ]
        },
        {
          "name": "stdout",
          "output_type": "stream",
          "text": [
            "train Loss: 0.0533 Acc: 0.9864\n"
          ]
        },
        {
          "name": "stderr",
          "output_type": "stream",
          "text": [
            "val progress: 100%|██████████| 51/51 [00:27<00:00,  1.87batch/s, loss=0.00175]\n"
          ]
        },
        {
          "name": "stdout",
          "output_type": "stream",
          "text": [
            "val Loss: 0.3383 Acc: 0.9115\n",
            "\n",
            "Epoch 10/25\n",
            "----------\n"
          ]
        },
        {
          "name": "stderr",
          "output_type": "stream",
          "text": [
            "train progress: 100%|██████████| 201/201 [02:17<00:00,  1.47batch/s, loss=0.00952]\n"
          ]
        },
        {
          "name": "stdout",
          "output_type": "stream",
          "text": [
            "train Loss: 0.0423 Acc: 0.9903\n"
          ]
        },
        {
          "name": "stderr",
          "output_type": "stream",
          "text": [
            "val progress: 100%|██████████| 51/51 [00:27<00:00,  1.89batch/s, loss=0.00205]\n"
          ]
        },
        {
          "name": "stdout",
          "output_type": "stream",
          "text": [
            "val Loss: 0.3469 Acc: 0.9065\n",
            "\n",
            "Epoch 11/25\n",
            "----------\n"
          ]
        },
        {
          "name": "stderr",
          "output_type": "stream",
          "text": [
            "train progress: 100%|██████████| 201/201 [02:17<00:00,  1.46batch/s, loss=0.00826]\n"
          ]
        },
        {
          "name": "stdout",
          "output_type": "stream",
          "text": [
            "train Loss: 0.0300 Acc: 0.9952\n"
          ]
        },
        {
          "name": "stderr",
          "output_type": "stream",
          "text": [
            "val progress: 100%|██████████| 51/51 [00:27<00:00,  1.88batch/s, loss=0.000719]\n"
          ]
        },
        {
          "name": "stdout",
          "output_type": "stream",
          "text": [
            "val Loss: 0.3678 Acc: 0.9134\n",
            "\n",
            "Epoch 12/25\n",
            "----------\n"
          ]
        },
        {
          "name": "stderr",
          "output_type": "stream",
          "text": [
            "train progress: 100%|██████████| 201/201 [02:17<00:00,  1.46batch/s, loss=0.0356]\n"
          ]
        },
        {
          "name": "stdout",
          "output_type": "stream",
          "text": [
            "train Loss: 0.0259 Acc: 0.9963\n"
          ]
        },
        {
          "name": "stderr",
          "output_type": "stream",
          "text": [
            "val progress: 100%|██████████| 51/51 [00:27<00:00,  1.88batch/s, loss=0.00142]\n"
          ]
        },
        {
          "name": "stdout",
          "output_type": "stream",
          "text": [
            "val Loss: 0.3837 Acc: 0.9078\n",
            "\n",
            "Epoch 13/25\n",
            "----------\n"
          ]
        },
        {
          "name": "stderr",
          "output_type": "stream",
          "text": [
            "train progress: 100%|██████████| 201/201 [02:18<00:00,  1.46batch/s, loss=0.0102]\n"
          ]
        },
        {
          "name": "stdout",
          "output_type": "stream",
          "text": [
            "train Loss: 0.0203 Acc: 0.9963\n"
          ]
        },
        {
          "name": "stderr",
          "output_type": "stream",
          "text": [
            "val progress: 100%|██████████| 51/51 [00:27<00:00,  1.87batch/s, loss=0.000969]\n"
          ]
        },
        {
          "name": "stdout",
          "output_type": "stream",
          "text": [
            "val Loss: 0.3663 Acc: 0.9065\n",
            "\n",
            "Epoch 14/25\n",
            "----------\n"
          ]
        },
        {
          "name": "stderr",
          "output_type": "stream",
          "text": [
            "train progress: 100%|██████████| 201/201 [02:17<00:00,  1.46batch/s, loss=0.0106]\n"
          ]
        },
        {
          "name": "stdout",
          "output_type": "stream",
          "text": [
            "train Loss: 0.0165 Acc: 0.9980\n"
          ]
        },
        {
          "name": "stderr",
          "output_type": "stream",
          "text": [
            "val progress: 100%|██████████| 51/51 [00:27<00:00,  1.87batch/s, loss=0.000735]\n"
          ]
        },
        {
          "name": "stdout",
          "output_type": "stream",
          "text": [
            "val Loss: 0.3686 Acc: 0.9097\n",
            "\n",
            "Epoch 15/25\n",
            "----------\n"
          ]
        },
        {
          "name": "stderr",
          "output_type": "stream",
          "text": [
            "train progress: 100%|██████████| 201/201 [02:18<00:00,  1.46batch/s, loss=0.0126]\n"
          ]
        },
        {
          "name": "stdout",
          "output_type": "stream",
          "text": [
            "train Loss: 0.0131 Acc: 0.9991\n"
          ]
        },
        {
          "name": "stderr",
          "output_type": "stream",
          "text": [
            "val progress: 100%|██████████| 51/51 [00:27<00:00,  1.87batch/s, loss=0.00179]\n"
          ]
        },
        {
          "name": "stdout",
          "output_type": "stream",
          "text": [
            "val Loss: 0.4012 Acc: 0.9072\n",
            "\n",
            "Epoch 16/25\n",
            "----------\n"
          ]
        },
        {
          "name": "stderr",
          "output_type": "stream",
          "text": [
            "train progress: 100%|██████████| 201/201 [02:17<00:00,  1.46batch/s, loss=0.037]\n"
          ]
        },
        {
          "name": "stdout",
          "output_type": "stream",
          "text": [
            "train Loss: 0.0129 Acc: 0.9986\n"
          ]
        },
        {
          "name": "stderr",
          "output_type": "stream",
          "text": [
            "val progress: 100%|██████████| 51/51 [00:27<00:00,  1.85batch/s, loss=0.000583]\n"
          ]
        },
        {
          "name": "stdout",
          "output_type": "stream",
          "text": [
            "val Loss: 0.3994 Acc: 0.9140\n",
            "\n",
            "Epoch 17/25\n",
            "----------\n"
          ]
        },
        {
          "name": "stderr",
          "output_type": "stream",
          "text": [
            "train progress: 100%|██████████| 201/201 [02:17<00:00,  1.46batch/s, loss=0.0103]\n"
          ]
        },
        {
          "name": "stdout",
          "output_type": "stream",
          "text": [
            "train Loss: 0.0109 Acc: 0.9986\n"
          ]
        },
        {
          "name": "stderr",
          "output_type": "stream",
          "text": [
            "val progress: 100%|██████████| 51/51 [00:26<00:00,  1.90batch/s, loss=0.000945]\n"
          ]
        },
        {
          "name": "stdout",
          "output_type": "stream",
          "text": [
            "val Loss: 0.4103 Acc: 0.9109\n",
            "\n",
            "Epoch 18/25\n",
            "----------\n"
          ]
        },
        {
          "name": "stderr",
          "output_type": "stream",
          "text": [
            "train progress: 100%|██████████| 201/201 [02:17<00:00,  1.46batch/s, loss=0.0023]\n"
          ]
        },
        {
          "name": "stdout",
          "output_type": "stream",
          "text": [
            "train Loss: 0.0098 Acc: 0.9989\n"
          ]
        },
        {
          "name": "stderr",
          "output_type": "stream",
          "text": [
            "val progress: 100%|██████████| 51/51 [00:27<00:00,  1.85batch/s, loss=0.000438]\n"
          ]
        },
        {
          "name": "stdout",
          "output_type": "stream",
          "text": [
            "val Loss: 0.4016 Acc: 0.9065\n",
            "\n",
            "Epoch 19/25\n",
            "----------\n"
          ]
        },
        {
          "name": "stderr",
          "output_type": "stream",
          "text": [
            "train progress: 100%|██████████| 201/201 [02:17<00:00,  1.46batch/s, loss=0.00745]\n"
          ]
        },
        {
          "name": "stdout",
          "output_type": "stream",
          "text": [
            "train Loss: 0.0093 Acc: 0.9992\n"
          ]
        },
        {
          "name": "stderr",
          "output_type": "stream",
          "text": [
            "val progress: 100%|██████████| 51/51 [00:27<00:00,  1.87batch/s, loss=0.000776]\n"
          ]
        },
        {
          "name": "stdout",
          "output_type": "stream",
          "text": [
            "val Loss: 0.4198 Acc: 0.9134\n",
            "\n",
            "Epoch 20/25\n",
            "----------\n"
          ]
        },
        {
          "name": "stderr",
          "output_type": "stream",
          "text": [
            "train progress: 100%|██████████| 201/201 [02:18<00:00,  1.45batch/s, loss=0.000893]\n"
          ]
        },
        {
          "name": "stdout",
          "output_type": "stream",
          "text": [
            "train Loss: 0.0079 Acc: 0.9997\n"
          ]
        },
        {
          "name": "stderr",
          "output_type": "stream",
          "text": [
            "val progress: 100%|██████████| 51/51 [00:27<00:00,  1.88batch/s, loss=0.000534]\n"
          ]
        },
        {
          "name": "stdout",
          "output_type": "stream",
          "text": [
            "val Loss: 0.4158 Acc: 0.9090\n",
            "\n",
            "Epoch 21/25\n",
            "----------\n"
          ]
        },
        {
          "name": "stderr",
          "output_type": "stream",
          "text": [
            "train progress: 100%|██████████| 201/201 [02:17<00:00,  1.46batch/s, loss=0.0798]\n"
          ]
        },
        {
          "name": "stdout",
          "output_type": "stream",
          "text": [
            "train Loss: 0.0068 Acc: 0.9992\n"
          ]
        },
        {
          "name": "stderr",
          "output_type": "stream",
          "text": [
            "val progress: 100%|██████████| 51/51 [00:27<00:00,  1.88batch/s, loss=0.00134]\n"
          ]
        },
        {
          "name": "stdout",
          "output_type": "stream",
          "text": [
            "val Loss: 0.4209 Acc: 0.9115\n",
            "\n",
            "Epoch 22/25\n",
            "----------\n"
          ]
        },
        {
          "name": "stderr",
          "output_type": "stream",
          "text": [
            "train progress: 100%|██████████| 201/201 [02:18<00:00,  1.45batch/s, loss=0.00454]\n"
          ]
        },
        {
          "name": "stdout",
          "output_type": "stream",
          "text": [
            "train Loss: 0.0086 Acc: 0.9992\n"
          ]
        },
        {
          "name": "stderr",
          "output_type": "stream",
          "text": [
            "val progress: 100%|██████████| 51/51 [00:27<00:00,  1.86batch/s, loss=0.00154]\n"
          ]
        },
        {
          "name": "stdout",
          "output_type": "stream",
          "text": [
            "val Loss: 0.4286 Acc: 0.9034\n",
            "\n",
            "Epoch 23/25\n",
            "----------\n"
          ]
        },
        {
          "name": "stderr",
          "output_type": "stream",
          "text": [
            "train progress: 100%|██████████| 201/201 [02:17<00:00,  1.46batch/s, loss=0.0473]\n"
          ]
        },
        {
          "name": "stdout",
          "output_type": "stream",
          "text": [
            "train Loss: 0.0069 Acc: 0.9997\n"
          ]
        },
        {
          "name": "stderr",
          "output_type": "stream",
          "text": [
            "val progress: 100%|██████████| 51/51 [00:27<00:00,  1.89batch/s, loss=0.000278]\n"
          ]
        },
        {
          "name": "stdout",
          "output_type": "stream",
          "text": [
            "val Loss: 0.4071 Acc: 0.9140\n",
            "\n",
            "Epoch 24/25\n",
            "----------\n"
          ]
        },
        {
          "name": "stderr",
          "output_type": "stream",
          "text": [
            "train progress: 100%|██████████| 201/201 [02:18<00:00,  1.45batch/s, loss=0.00414]\n"
          ]
        },
        {
          "name": "stdout",
          "output_type": "stream",
          "text": [
            "train Loss: 0.0050 Acc: 0.9998\n"
          ]
        },
        {
          "name": "stderr",
          "output_type": "stream",
          "text": [
            "val progress: 100%|██████████| 51/51 [00:27<00:00,  1.88batch/s, loss=0.00023]\n"
          ]
        },
        {
          "name": "stdout",
          "output_type": "stream",
          "text": [
            "val Loss: 0.4233 Acc: 0.9153\n",
            "\n",
            "Epoch 25/25\n",
            "----------\n"
          ]
        },
        {
          "name": "stderr",
          "output_type": "stream",
          "text": [
            "train progress: 100%|██████████| 201/201 [02:17<00:00,  1.46batch/s, loss=0.00078]\n"
          ]
        },
        {
          "name": "stdout",
          "output_type": "stream",
          "text": [
            "train Loss: 0.0046 Acc: 0.9997\n"
          ]
        },
        {
          "name": "stderr",
          "output_type": "stream",
          "text": [
            "val progress: 100%|██████████| 51/51 [00:27<00:00,  1.87batch/s, loss=0.000478]"
          ]
        },
        {
          "name": "stdout",
          "output_type": "stream",
          "text": [
            "val Loss: 0.4312 Acc: 0.9165\n",
            "\n"
          ]
        },
        {
          "name": "stderr",
          "output_type": "stream",
          "text": [
            "\n"
          ]
        }
      ],
      "source": [
        "trained_model = train_model(model, criterion, optimizer, num_epochs=25)"
      ]
    },
    {
      "cell_type": "code",
      "execution_count": 94,
      "metadata": {
        "id": "ebNKDKFHVva4"
      },
      "outputs": [],
      "source": [
        "torch.save(trained_model.state_dict(), '/content/gdrive/MyDrive/Colab Notebooks/AI CROWD Mosquito/Models/model_000.pth')"
      ]
    },
    {
      "cell_type": "markdown",
      "metadata": {
        "id": "Msm1ZN81_Ksq"
      },
      "source": [
        "\n",
        "\n",
        "---\n",
        "\n",
        "# <center> MODEL INFERENCE / TESTING </center>\n",
        "\n",
        "\n",
        "---\n",
        "\n"
      ]
    },
    {
      "cell_type": "code",
      "execution_count": 90,
      "metadata": {
        "colab": {
          "base_uri": "https://localhost:8080/",
          "height": 206
        },
        "id": "by5gHjd3-6iH",
        "outputId": "8324854f-3263-4a49-e58a-77cd0b3a1c3f"
      },
      "outputs": [
        {
          "data": {
            "text/html": [
              "\n",
              "\n",
              "  <div id=\"df-7788b9a8-4f71-4827-bf91-6b4297da3902\">\n",
              "    <div class=\"colab-df-container\">\n",
              "      <div>\n",
              "<style scoped>\n",
              "    .dataframe tbody tr th:only-of-type {\n",
              "        vertical-align: middle;\n",
              "    }\n",
              "\n",
              "    .dataframe tbody tr th {\n",
              "        vertical-align: top;\n",
              "    }\n",
              "\n",
              "    .dataframe thead th {\n",
              "        text-align: right;\n",
              "    }\n",
              "</style>\n",
              "<table border=\"1\" class=\"dataframe\">\n",
              "  <thead>\n",
              "    <tr style=\"text-align: right;\">\n",
              "      <th></th>\n",
              "      <th>img_fName</th>\n",
              "      <th>img_w</th>\n",
              "      <th>img_h</th>\n",
              "    </tr>\n",
              "  </thead>\n",
              "  <tbody>\n",
              "    <tr>\n",
              "      <th>0</th>\n",
              "      <td>ce8f0ede-4366-45b9-bdd4-959e17c7618c.jpeg</td>\n",
              "      <td>1599</td>\n",
              "      <td>965</td>\n",
              "    </tr>\n",
              "    <tr>\n",
              "      <th>1</th>\n",
              "      <td>f207780c-0d0a-4d41-bd95-92ca53ff81a3.jpeg</td>\n",
              "      <td>822</td>\n",
              "      <td>861</td>\n",
              "    </tr>\n",
              "    <tr>\n",
              "      <th>2</th>\n",
              "      <td>99c6b7f9-dbea-4635-a18d-cde16b125515.jpeg</td>\n",
              "      <td>720</td>\n",
              "      <td>1280</td>\n",
              "    </tr>\n",
              "    <tr>\n",
              "      <th>3</th>\n",
              "      <td>662b4405-3600-41b9-9812-451b6d9df322.jpeg</td>\n",
              "      <td>3024</td>\n",
              "      <td>4032</td>\n",
              "    </tr>\n",
              "    <tr>\n",
              "      <th>4</th>\n",
              "      <td>1de14b6b-6781-4a24-ae5e-f760e865c758.jpeg</td>\n",
              "      <td>1242</td>\n",
              "      <td>2208</td>\n",
              "    </tr>\n",
              "  </tbody>\n",
              "</table>\n",
              "</div>\n",
              "      <button class=\"colab-df-convert\" onclick=\"convertToInteractive('df-7788b9a8-4f71-4827-bf91-6b4297da3902')\"\n",
              "              title=\"Convert this dataframe to an interactive table.\"\n",
              "              style=\"display:none;\">\n",
              "\n",
              "  <svg xmlns=\"http://www.w3.org/2000/svg\" height=\"24px\"viewBox=\"0 0 24 24\"\n",
              "       width=\"24px\">\n",
              "    <path d=\"M0 0h24v24H0V0z\" fill=\"none\"/>\n",
              "    <path d=\"M18.56 5.44l.94 2.06.94-2.06 2.06-.94-2.06-.94-.94-2.06-.94 2.06-2.06.94zm-11 1L8.5 8.5l.94-2.06 2.06-.94-2.06-.94L8.5 2.5l-.94 2.06-2.06.94zm10 10l.94 2.06.94-2.06 2.06-.94-2.06-.94-.94-2.06-.94 2.06-2.06.94z\"/><path d=\"M17.41 7.96l-1.37-1.37c-.4-.4-.92-.59-1.43-.59-.52 0-1.04.2-1.43.59L10.3 9.45l-7.72 7.72c-.78.78-.78 2.05 0 2.83L4 21.41c.39.39.9.59 1.41.59.51 0 1.02-.2 1.41-.59l7.78-7.78 2.81-2.81c.8-.78.8-2.07 0-2.86zM5.41 20L4 18.59l7.72-7.72 1.47 1.35L5.41 20z\"/>\n",
              "  </svg>\n",
              "      </button>\n",
              "\n",
              "\n",
              "\n",
              "    <div id=\"df-d3d7aeca-602b-4c81-b39d-3965c21d334f\">\n",
              "      <button class=\"colab-df-quickchart\" onclick=\"quickchart('df-d3d7aeca-602b-4c81-b39d-3965c21d334f')\"\n",
              "              title=\"Suggest charts.\"\n",
              "              style=\"display:none;\">\n",
              "\n",
              "<svg xmlns=\"http://www.w3.org/2000/svg\" height=\"24px\"viewBox=\"0 0 24 24\"\n",
              "     width=\"24px\">\n",
              "    <g>\n",
              "        <path d=\"M19 3H5c-1.1 0-2 .9-2 2v14c0 1.1.9 2 2 2h14c1.1 0 2-.9 2-2V5c0-1.1-.9-2-2-2zM9 17H7v-7h2v7zm4 0h-2V7h2v10zm4 0h-2v-4h2v4z\"/>\n",
              "    </g>\n",
              "</svg>\n",
              "      </button>\n",
              "    </div>\n",
              "\n",
              "<style>\n",
              "  .colab-df-quickchart {\n",
              "    background-color: #E8F0FE;\n",
              "    border: none;\n",
              "    border-radius: 50%;\n",
              "    cursor: pointer;\n",
              "    display: none;\n",
              "    fill: #1967D2;\n",
              "    height: 32px;\n",
              "    padding: 0 0 0 0;\n",
              "    width: 32px;\n",
              "  }\n",
              "\n",
              "  .colab-df-quickchart:hover {\n",
              "    background-color: #E2EBFA;\n",
              "    box-shadow: 0px 1px 2px rgba(60, 64, 67, 0.3), 0px 1px 3px 1px rgba(60, 64, 67, 0.15);\n",
              "    fill: #174EA6;\n",
              "  }\n",
              "\n",
              "  [theme=dark] .colab-df-quickchart {\n",
              "    background-color: #3B4455;\n",
              "    fill: #D2E3FC;\n",
              "  }\n",
              "\n",
              "  [theme=dark] .colab-df-quickchart:hover {\n",
              "    background-color: #434B5C;\n",
              "    box-shadow: 0px 1px 3px 1px rgba(0, 0, 0, 0.15);\n",
              "    filter: drop-shadow(0px 1px 2px rgba(0, 0, 0, 0.3));\n",
              "    fill: #FFFFFF;\n",
              "  }\n",
              "</style>\n",
              "\n",
              "    <script>\n",
              "      async function quickchart(key) {\n",
              "        const containerElement = document.querySelector('#' + key);\n",
              "        const charts = await google.colab.kernel.invokeFunction(\n",
              "            'suggestCharts', [key], {});\n",
              "      }\n",
              "    </script>\n",
              "\n",
              "      <script>\n",
              "\n",
              "function displayQuickchartButton(domScope) {\n",
              "  let quickchartButtonEl =\n",
              "    domScope.querySelector('#df-d3d7aeca-602b-4c81-b39d-3965c21d334f button.colab-df-quickchart');\n",
              "  quickchartButtonEl.style.display =\n",
              "    google.colab.kernel.accessAllowed ? 'block' : 'none';\n",
              "}\n",
              "\n",
              "        displayQuickchartButton(document);\n",
              "      </script>\n",
              "      <style>\n",
              "    .colab-df-container {\n",
              "      display:flex;\n",
              "      flex-wrap:wrap;\n",
              "      gap: 12px;\n",
              "    }\n",
              "\n",
              "    .colab-df-convert {\n",
              "      background-color: #E8F0FE;\n",
              "      border: none;\n",
              "      border-radius: 50%;\n",
              "      cursor: pointer;\n",
              "      display: none;\n",
              "      fill: #1967D2;\n",
              "      height: 32px;\n",
              "      padding: 0 0 0 0;\n",
              "      width: 32px;\n",
              "    }\n",
              "\n",
              "    .colab-df-convert:hover {\n",
              "      background-color: #E2EBFA;\n",
              "      box-shadow: 0px 1px 2px rgba(60, 64, 67, 0.3), 0px 1px 3px 1px rgba(60, 64, 67, 0.15);\n",
              "      fill: #174EA6;\n",
              "    }\n",
              "\n",
              "    [theme=dark] .colab-df-convert {\n",
              "      background-color: #3B4455;\n",
              "      fill: #D2E3FC;\n",
              "    }\n",
              "\n",
              "    [theme=dark] .colab-df-convert:hover {\n",
              "      background-color: #434B5C;\n",
              "      box-shadow: 0px 1px 3px 1px rgba(0, 0, 0, 0.15);\n",
              "      filter: drop-shadow(0px 1px 2px rgba(0, 0, 0, 0.3));\n",
              "      fill: #FFFFFF;\n",
              "    }\n",
              "  </style>\n",
              "\n",
              "      <script>\n",
              "        const buttonEl =\n",
              "          document.querySelector('#df-7788b9a8-4f71-4827-bf91-6b4297da3902 button.colab-df-convert');\n",
              "        buttonEl.style.display =\n",
              "          google.colab.kernel.accessAllowed ? 'block' : 'none';\n",
              "\n",
              "        async function convertToInteractive(key) {\n",
              "          const element = document.querySelector('#df-7788b9a8-4f71-4827-bf91-6b4297da3902');\n",
              "          const dataTable =\n",
              "            await google.colab.kernel.invokeFunction('convertToInteractive',\n",
              "                                                     [key], {});\n",
              "          if (!dataTable) return;\n",
              "\n",
              "          const docLinkHtml = 'Like what you see? Visit the ' +\n",
              "            '<a target=\"_blank\" href=https://colab.research.google.com/notebooks/data_table.ipynb>data table notebook</a>'\n",
              "            + ' to learn more about interactive tables.';\n",
              "          element.innerHTML = '';\n",
              "          dataTable['output_type'] = 'display_data';\n",
              "          await google.colab.output.renderOutput(dataTable, element);\n",
              "          const docLink = document.createElement('div');\n",
              "          docLink.innerHTML = docLinkHtml;\n",
              "          element.appendChild(docLink);\n",
              "        }\n",
              "      </script>\n",
              "    </div>\n",
              "  </div>\n"
            ],
            "text/plain": [
              "                                   img_fName  img_w  img_h\n",
              "0  ce8f0ede-4366-45b9-bdd4-959e17c7618c.jpeg   1599    965\n",
              "1  f207780c-0d0a-4d41-bd95-92ca53ff81a3.jpeg    822    861\n",
              "2  99c6b7f9-dbea-4635-a18d-cde16b125515.jpeg    720   1280\n",
              "3  662b4405-3600-41b9-9812-451b6d9df322.jpeg   3024   4032\n",
              "4  1de14b6b-6781-4a24-ae5e-f760e865c758.jpeg   1242   2208"
            ]
          },
          "execution_count": 90,
          "metadata": {},
          "output_type": "execute_result"
        }
      ],
      "source": [
        "test_df = pd.read_csv(test_csv_path)\n",
        "\n",
        "test_df.head()"
      ]
    },
    {
      "cell_type": "code",
      "execution_count": 91,
      "metadata": {
        "id": "195vzuOA_npl"
      },
      "outputs": [],
      "source": [
        "transform = transforms.Compose([\n",
        "    transforms.Resize((384,384)),\n",
        "    transforms.ToTensor(),\n",
        "    transforms.Normalize(mean=[0.5, 0.5, 0.5], std=[0.5, 0.5, 0.5])\n",
        "])\n",
        "\n",
        "\n",
        "for index, row in test_df.iterrows():\n",
        "    img_path = os.path.join(test_crop, row['img_fName'])\n",
        "    image = Image.open(img_path)\n",
        "    image_tensor = transform(image).unsqueeze(0).to(device)\n",
        "\n",
        "    # Predict\n",
        "    with torch.no_grad():\n",
        "        outputs = trained_model(image_tensor)\n",
        "        _, predicted = torch.max(outputs, 1)\n",
        "        class_label = all_labels[predicted.item()]\n",
        "\n",
        "    # Save to CSV\n",
        "    test_df.at[index, 'class_label'] = class_label\n"
      ]
    },
    {
      "cell_type": "code",
      "execution_count": 92,
      "metadata": {
        "colab": {
          "base_uri": "https://localhost:8080/",
          "height": 424
        },
        "id": "uvz1i1hkENZz",
        "outputId": "6e53b358-4f96-4ca7-a7ff-ed422e481f02"
      },
      "outputs": [
        {
          "data": {
            "text/html": [
              "\n",
              "\n",
              "  <div id=\"df-a4dde26a-9fcf-4ab6-bdd6-0b479657534d\">\n",
              "    <div class=\"colab-df-container\">\n",
              "      <div>\n",
              "<style scoped>\n",
              "    .dataframe tbody tr th:only-of-type {\n",
              "        vertical-align: middle;\n",
              "    }\n",
              "\n",
              "    .dataframe tbody tr th {\n",
              "        vertical-align: top;\n",
              "    }\n",
              "\n",
              "    .dataframe thead th {\n",
              "        text-align: right;\n",
              "    }\n",
              "</style>\n",
              "<table border=\"1\" class=\"dataframe\">\n",
              "  <thead>\n",
              "    <tr style=\"text-align: right;\">\n",
              "      <th></th>\n",
              "      <th>img_fName</th>\n",
              "      <th>img_w</th>\n",
              "      <th>img_h</th>\n",
              "      <th>class_label</th>\n",
              "    </tr>\n",
              "  </thead>\n",
              "  <tbody>\n",
              "    <tr>\n",
              "      <th>0</th>\n",
              "      <td>ce8f0ede-4366-45b9-bdd4-959e17c7618c.jpeg</td>\n",
              "      <td>1599</td>\n",
              "      <td>965</td>\n",
              "      <td>culex</td>\n",
              "    </tr>\n",
              "    <tr>\n",
              "      <th>1</th>\n",
              "      <td>f207780c-0d0a-4d41-bd95-92ca53ff81a3.jpeg</td>\n",
              "      <td>822</td>\n",
              "      <td>861</td>\n",
              "      <td>albopictus</td>\n",
              "    </tr>\n",
              "    <tr>\n",
              "      <th>2</th>\n",
              "      <td>99c6b7f9-dbea-4635-a18d-cde16b125515.jpeg</td>\n",
              "      <td>720</td>\n",
              "      <td>1280</td>\n",
              "      <td>albopictus</td>\n",
              "    </tr>\n",
              "    <tr>\n",
              "      <th>3</th>\n",
              "      <td>662b4405-3600-41b9-9812-451b6d9df322.jpeg</td>\n",
              "      <td>3024</td>\n",
              "      <td>4032</td>\n",
              "      <td>culex</td>\n",
              "    </tr>\n",
              "    <tr>\n",
              "      <th>4</th>\n",
              "      <td>1de14b6b-6781-4a24-ae5e-f760e865c758.jpeg</td>\n",
              "      <td>1242</td>\n",
              "      <td>2208</td>\n",
              "      <td>albopictus</td>\n",
              "    </tr>\n",
              "    <tr>\n",
              "      <th>...</th>\n",
              "      <td>...</td>\n",
              "      <td>...</td>\n",
              "      <td>...</td>\n",
              "      <td>...</td>\n",
              "    </tr>\n",
              "    <tr>\n",
              "      <th>2671</th>\n",
              "      <td>5071a8e8-b210-4929-bf48-7bafb4b8ba06.jpeg</td>\n",
              "      <td>3840</td>\n",
              "      <td>5120</td>\n",
              "      <td>culex</td>\n",
              "    </tr>\n",
              "    <tr>\n",
              "      <th>2672</th>\n",
              "      <td>fd610106-3aff-4172-9e12-5037d107af30.jpeg</td>\n",
              "      <td>4000</td>\n",
              "      <td>3000</td>\n",
              "      <td>albopictus</td>\n",
              "    </tr>\n",
              "    <tr>\n",
              "      <th>2673</th>\n",
              "      <td>c0677977-ef6f-4397-b809-a7f7c29e54f6.jpeg</td>\n",
              "      <td>4032</td>\n",
              "      <td>2268</td>\n",
              "      <td>culex</td>\n",
              "    </tr>\n",
              "    <tr>\n",
              "      <th>2674</th>\n",
              "      <td>df645ac5-dc5c-4549-95f2-7fbe1c4c4c90.jpeg</td>\n",
              "      <td>1078</td>\n",
              "      <td>1280</td>\n",
              "      <td>culex</td>\n",
              "    </tr>\n",
              "    <tr>\n",
              "      <th>2675</th>\n",
              "      <td>b5f6197b-925b-488b-b65f-b540412a96de.jpeg</td>\n",
              "      <td>768</td>\n",
              "      <td>1024</td>\n",
              "      <td>culex</td>\n",
              "    </tr>\n",
              "  </tbody>\n",
              "</table>\n",
              "<p>2676 rows × 4 columns</p>\n",
              "</div>\n",
              "      <button class=\"colab-df-convert\" onclick=\"convertToInteractive('df-a4dde26a-9fcf-4ab6-bdd6-0b479657534d')\"\n",
              "              title=\"Convert this dataframe to an interactive table.\"\n",
              "              style=\"display:none;\">\n",
              "\n",
              "  <svg xmlns=\"http://www.w3.org/2000/svg\" height=\"24px\"viewBox=\"0 0 24 24\"\n",
              "       width=\"24px\">\n",
              "    <path d=\"M0 0h24v24H0V0z\" fill=\"none\"/>\n",
              "    <path d=\"M18.56 5.44l.94 2.06.94-2.06 2.06-.94-2.06-.94-.94-2.06-.94 2.06-2.06.94zm-11 1L8.5 8.5l.94-2.06 2.06-.94-2.06-.94L8.5 2.5l-.94 2.06-2.06.94zm10 10l.94 2.06.94-2.06 2.06-.94-2.06-.94-.94-2.06-.94 2.06-2.06.94z\"/><path d=\"M17.41 7.96l-1.37-1.37c-.4-.4-.92-.59-1.43-.59-.52 0-1.04.2-1.43.59L10.3 9.45l-7.72 7.72c-.78.78-.78 2.05 0 2.83L4 21.41c.39.39.9.59 1.41.59.51 0 1.02-.2 1.41-.59l7.78-7.78 2.81-2.81c.8-.78.8-2.07 0-2.86zM5.41 20L4 18.59l7.72-7.72 1.47 1.35L5.41 20z\"/>\n",
              "  </svg>\n",
              "      </button>\n",
              "\n",
              "\n",
              "\n",
              "    <div id=\"df-76200e8e-7de3-4212-93ec-b697a7ed8883\">\n",
              "      <button class=\"colab-df-quickchart\" onclick=\"quickchart('df-76200e8e-7de3-4212-93ec-b697a7ed8883')\"\n",
              "              title=\"Suggest charts.\"\n",
              "              style=\"display:none;\">\n",
              "\n",
              "<svg xmlns=\"http://www.w3.org/2000/svg\" height=\"24px\"viewBox=\"0 0 24 24\"\n",
              "     width=\"24px\">\n",
              "    <g>\n",
              "        <path d=\"M19 3H5c-1.1 0-2 .9-2 2v14c0 1.1.9 2 2 2h14c1.1 0 2-.9 2-2V5c0-1.1-.9-2-2-2zM9 17H7v-7h2v7zm4 0h-2V7h2v10zm4 0h-2v-4h2v4z\"/>\n",
              "    </g>\n",
              "</svg>\n",
              "      </button>\n",
              "    </div>\n",
              "\n",
              "<style>\n",
              "  .colab-df-quickchart {\n",
              "    background-color: #E8F0FE;\n",
              "    border: none;\n",
              "    border-radius: 50%;\n",
              "    cursor: pointer;\n",
              "    display: none;\n",
              "    fill: #1967D2;\n",
              "    height: 32px;\n",
              "    padding: 0 0 0 0;\n",
              "    width: 32px;\n",
              "  }\n",
              "\n",
              "  .colab-df-quickchart:hover {\n",
              "    background-color: #E2EBFA;\n",
              "    box-shadow: 0px 1px 2px rgba(60, 64, 67, 0.3), 0px 1px 3px 1px rgba(60, 64, 67, 0.15);\n",
              "    fill: #174EA6;\n",
              "  }\n",
              "\n",
              "  [theme=dark] .colab-df-quickchart {\n",
              "    background-color: #3B4455;\n",
              "    fill: #D2E3FC;\n",
              "  }\n",
              "\n",
              "  [theme=dark] .colab-df-quickchart:hover {\n",
              "    background-color: #434B5C;\n",
              "    box-shadow: 0px 1px 3px 1px rgba(0, 0, 0, 0.15);\n",
              "    filter: drop-shadow(0px 1px 2px rgba(0, 0, 0, 0.3));\n",
              "    fill: #FFFFFF;\n",
              "  }\n",
              "</style>\n",
              "\n",
              "    <script>\n",
              "      async function quickchart(key) {\n",
              "        const containerElement = document.querySelector('#' + key);\n",
              "        const charts = await google.colab.kernel.invokeFunction(\n",
              "            'suggestCharts', [key], {});\n",
              "      }\n",
              "    </script>\n",
              "\n",
              "      <script>\n",
              "\n",
              "function displayQuickchartButton(domScope) {\n",
              "  let quickchartButtonEl =\n",
              "    domScope.querySelector('#df-76200e8e-7de3-4212-93ec-b697a7ed8883 button.colab-df-quickchart');\n",
              "  quickchartButtonEl.style.display =\n",
              "    google.colab.kernel.accessAllowed ? 'block' : 'none';\n",
              "}\n",
              "\n",
              "        displayQuickchartButton(document);\n",
              "      </script>\n",
              "      <style>\n",
              "    .colab-df-container {\n",
              "      display:flex;\n",
              "      flex-wrap:wrap;\n",
              "      gap: 12px;\n",
              "    }\n",
              "\n",
              "    .colab-df-convert {\n",
              "      background-color: #E8F0FE;\n",
              "      border: none;\n",
              "      border-radius: 50%;\n",
              "      cursor: pointer;\n",
              "      display: none;\n",
              "      fill: #1967D2;\n",
              "      height: 32px;\n",
              "      padding: 0 0 0 0;\n",
              "      width: 32px;\n",
              "    }\n",
              "\n",
              "    .colab-df-convert:hover {\n",
              "      background-color: #E2EBFA;\n",
              "      box-shadow: 0px 1px 2px rgba(60, 64, 67, 0.3), 0px 1px 3px 1px rgba(60, 64, 67, 0.15);\n",
              "      fill: #174EA6;\n",
              "    }\n",
              "\n",
              "    [theme=dark] .colab-df-convert {\n",
              "      background-color: #3B4455;\n",
              "      fill: #D2E3FC;\n",
              "    }\n",
              "\n",
              "    [theme=dark] .colab-df-convert:hover {\n",
              "      background-color: #434B5C;\n",
              "      box-shadow: 0px 1px 3px 1px rgba(0, 0, 0, 0.15);\n",
              "      filter: drop-shadow(0px 1px 2px rgba(0, 0, 0, 0.3));\n",
              "      fill: #FFFFFF;\n",
              "    }\n",
              "  </style>\n",
              "\n",
              "      <script>\n",
              "        const buttonEl =\n",
              "          document.querySelector('#df-a4dde26a-9fcf-4ab6-bdd6-0b479657534d button.colab-df-convert');\n",
              "        buttonEl.style.display =\n",
              "          google.colab.kernel.accessAllowed ? 'block' : 'none';\n",
              "\n",
              "        async function convertToInteractive(key) {\n",
              "          const element = document.querySelector('#df-a4dde26a-9fcf-4ab6-bdd6-0b479657534d');\n",
              "          const dataTable =\n",
              "            await google.colab.kernel.invokeFunction('convertToInteractive',\n",
              "                                                     [key], {});\n",
              "          if (!dataTable) return;\n",
              "\n",
              "          const docLinkHtml = 'Like what you see? Visit the ' +\n",
              "            '<a target=\"_blank\" href=https://colab.research.google.com/notebooks/data_table.ipynb>data table notebook</a>'\n",
              "            + ' to learn more about interactive tables.';\n",
              "          element.innerHTML = '';\n",
              "          dataTable['output_type'] = 'display_data';\n",
              "          await google.colab.output.renderOutput(dataTable, element);\n",
              "          const docLink = document.createElement('div');\n",
              "          docLink.innerHTML = docLinkHtml;\n",
              "          element.appendChild(docLink);\n",
              "        }\n",
              "      </script>\n",
              "    </div>\n",
              "  </div>\n"
            ],
            "text/plain": [
              "                                      img_fName  img_w  img_h class_label\n",
              "0     ce8f0ede-4366-45b9-bdd4-959e17c7618c.jpeg   1599    965       culex\n",
              "1     f207780c-0d0a-4d41-bd95-92ca53ff81a3.jpeg    822    861  albopictus\n",
              "2     99c6b7f9-dbea-4635-a18d-cde16b125515.jpeg    720   1280  albopictus\n",
              "3     662b4405-3600-41b9-9812-451b6d9df322.jpeg   3024   4032       culex\n",
              "4     1de14b6b-6781-4a24-ae5e-f760e865c758.jpeg   1242   2208  albopictus\n",
              "...                                         ...    ...    ...         ...\n",
              "2671  5071a8e8-b210-4929-bf48-7bafb4b8ba06.jpeg   3840   5120       culex\n",
              "2672  fd610106-3aff-4172-9e12-5037d107af30.jpeg   4000   3000  albopictus\n",
              "2673  c0677977-ef6f-4397-b809-a7f7c29e54f6.jpeg   4032   2268       culex\n",
              "2674  df645ac5-dc5c-4549-95f2-7fbe1c4c4c90.jpeg   1078   1280       culex\n",
              "2675  b5f6197b-925b-488b-b65f-b540412a96de.jpeg    768   1024       culex\n",
              "\n",
              "[2676 rows x 4 columns]"
            ]
          },
          "execution_count": 92,
          "metadata": {},
          "output_type": "execute_result"
        }
      ],
      "source": [
        "test_df"
      ]
    },
    {
      "cell_type": "code",
      "execution_count": 93,
      "metadata": {
        "id": "71k7neHSBLeP"
      },
      "outputs": [],
      "source": [
        "# Save the updated TEST CSV\n",
        "test_df.to_csv('/content/gdrive/MyDrive/Colab Notebooks/AI CROWD Mosquito/Models/test_csv_000.csv', index=False)"
      ]
    },
    {
      "cell_type": "markdown",
      "metadata": {
        "id": "oEucrNOMGgnI"
      },
      "source": [
        "\n",
        "\n",
        "---\n",
        "\n",
        "# <center> ADD YOLO BBOX TO CSV  </center>\n",
        "\n",
        "\n",
        "---\n",
        "\n"
      ]
    },
    {
      "cell_type": "code",
      "execution_count": 97,
      "metadata": {
        "colab": {
          "base_uri": "https://localhost:8080/"
        },
        "id": "nlbW62DtEQnO",
        "outputId": "2d860c84-3313-45b1-968a-6a21d5baf803"
      },
      "outputs": [
        {
          "name": "stderr",
          "output_type": "stream",
          "text": [
            "Using cache found in /root/.cache/torch/hub/ultralytics_yolov5_master\n",
            "\u001b[31m\u001b[1mrequirements:\u001b[0m Ultralytics requirement ['gitpython>=3.1.30'] not found, attempting AutoUpdate...\n",
            "Collecting gitpython>=3.1.30\n",
            "  Downloading GitPython-3.1.32-py3-none-any.whl (188 kB)\n",
            "     ━━━━━━━━━━━━━━━━━━━━━━━━━━━━━━━━━━━━━━━ 188.5/188.5 kB 2.7 MB/s eta 0:00:00\n",
            "Collecting gitdb<5,>=4.0.1 (from gitpython>=3.1.30)\n",
            "  Downloading gitdb-4.0.10-py3-none-any.whl (62 kB)\n",
            "     ━━━━━━━━━━━━━━━━━━━━━━━━━━━━━━━━━━━━━━━ 62.7/62.7 kB 178.4 MB/s eta 0:00:00\n",
            "Collecting smmap<6,>=3.0.1 (from gitdb<5,>=4.0.1->gitpython>=3.1.30)\n",
            "  Downloading smmap-5.0.0-py3-none-any.whl (24 kB)\n",
            "Installing collected packages: smmap, gitdb, gitpython\n",
            "Successfully installed gitdb-4.0.10 gitpython-3.1.32 smmap-5.0.0\n",
            "\n",
            "\u001b[31m\u001b[1mrequirements:\u001b[0m AutoUpdate success ✅ 10.1s, installed 1 package: ['gitpython>=3.1.30']\n",
            "\u001b[31m\u001b[1mrequirements:\u001b[0m ⚠️ \u001b[1mRestart runtime or rerun command for updates to take effect\u001b[0m\n",
            "\n",
            "YOLOv5 🚀 2023-7-31 Python-3.10.6 torch-2.0.1+cu118 CUDA:0 (Tesla T4, 15102MiB)\n",
            "\n",
            "Fusing layers... \n",
            "Model summary: 157 layers, 7012822 parameters, 0 gradients\n",
            "Adding AutoShape... \n"
          ]
        }
      ],
      "source": [
        "yolo_model = torch.hub.load('ultralytics/yolov5', 'custom', path = model_path)"
      ]
    },
    {
      "cell_type": "code",
      "execution_count": 100,
      "metadata": {
        "id": "Ii1lRoVHGpEn"
      },
      "outputs": [],
      "source": [
        "def add_yolo_test_csv(image_folder, y_model):\n",
        "    # Load the test_csv data\n",
        "    df = test_df\n",
        "\n",
        "    # For each image in the DataFrame\n",
        "    for index, row in df.iterrows():\n",
        "\n",
        "        # Perform inference on the image\n",
        "        img_path = os.path.join(image_folder, row['img_fName'])\n",
        "        results = y_model(img_path)\n",
        "\n",
        "        # Get the bounding box info\n",
        "\n",
        "        if len(results.xyxy[0]) > 0:  # If any objects were detected\n",
        "            bbox_info = results.xyxy[0][0]\n",
        "\n",
        "            # Convert the tensor values to integers\n",
        "            xmin = round(bbox_info[0].item())\n",
        "            ymin = round(bbox_info[1].item())\n",
        "            xmax = round(bbox_info[2].item())\n",
        "            ymax = round(bbox_info[3].item())\n",
        "\n",
        "            # Add the bounding box information to the DataFrame\n",
        "            df.loc[index, 'bbx_xtl'] = xmin\n",
        "            df.loc[index, 'bbx_ytl'] = ymin\n",
        "            df.loc[index, 'bbx_xbr'] = xmax\n",
        "            df.loc[index, 'bbx_ybr'] = ymax\n",
        "        else:  # No objects were detected\n",
        "            print(f\"No objects detected in image {row['img_fName']}\")\n",
        "\n",
        "\n",
        "            # For non-detected images, assign bounding box as the whole image\n",
        "            img = Image.open(img_path)\n",
        "\n",
        "            df.loc[index, 'bbx_xtl'] = 0\n",
        "            df.loc[index, 'bbx_ytl'] = 0\n",
        "            df.loc[index, 'bbx_xbr'] = img.width\n",
        "            df.loc[index, 'bbx_ybr'] = img.height\n",
        "\n",
        "    return df"
      ]
    },
    {
      "cell_type": "code",
      "execution_count": 103,
      "metadata": {
        "colab": {
          "base_uri": "https://localhost:8080/"
        },
        "id": "fUovz3rPH-dY",
        "outputId": "ac6bc746-8476-436e-80dc-a6317f541b61"
      },
      "outputs": [
        {
          "name": "stdout",
          "output_type": "stream",
          "text": [
            "No objects detected in image 1049b2eb-9099-4d97-b9c8-fb2e3a8e1b82.jpeg\n",
            "No objects detected in image 412c7c5e-a42a-47cb-a140-fcfea045e1fa.jpeg\n",
            "No objects detected in image 976e23ac-cd82-449a-a1fb-ca426a0b1ce0.jpeg\n",
            "No objects detected in image e24b8bc0-150c-4e67-9b2b-89cbe93d021a.jpeg\n",
            "No objects detected in image 51f457f2-0616-40ff-bc68-9a4da3475635.jpeg\n",
            "No objects detected in image e4dfc4c7-87cc-4c16-bc4a-5a4d0ab8f321.jpeg\n",
            "No objects detected in image 877bf21e-b652-482e-9f7d-2f0bacbb9cea.jpeg\n",
            "No objects detected in image 6e5c90db-f49d-4120-ad91-a0496225d1c8.jpeg\n",
            "No objects detected in image 3f21c4ea-caca-45a6-8200-84e4f030d0e0.jpeg\n",
            "No objects detected in image f5db356c-6e4a-4a5d-90f0-2a5e5aca5484.jpeg\n",
            "No objects detected in image f18bef1f-7834-4dbd-9ecd-2bd50088500a.jpeg\n",
            "No objects detected in image ffe9e181-d8ba-4ad2-9e9b-7740d5f0ae35.jpeg\n",
            "No objects detected in image 573a5997-e70a-4c91-9acd-16958d1f09ea.jpeg\n",
            "No objects detected in image d98d34a7-b83e-4bfa-ad2c-7bb7e2a5fa60.jpeg\n",
            "No objects detected in image 90dfc42d-8c5b-49fd-a97b-511d2ba7b630.jpeg\n",
            "No objects detected in image 43823dac-04e4-4f31-9dd5-8eaa7941ec31.jpeg\n",
            "No objects detected in image b22ab16f-65b0-4765-9846-2025c4cd89ac.jpeg\n",
            "No objects detected in image fce76a06-934e-4c43-86e8-af30cf411e69.jpeg\n",
            "No objects detected in image 3f3ae625-cd5f-45cc-b624-c82de13ae295.jpeg\n",
            "No objects detected in image d059e660-c2a3-4faa-bf1b-099a764165e1.jpeg\n",
            "No objects detected in image 2ed1d024-374f-424c-a59f-592a27f551c0.jpeg\n",
            "No objects detected in image f71e6d69-9cc9-4b5d-ae28-bfd84b409100.jpeg\n",
            "No objects detected in image d5b252fe-eeae-4c68-8aa1-83ff88ba0720.jpeg\n",
            "No objects detected in image ee5d7988-bdc1-4145-b7b6-7d6f80dd483b.jpeg\n",
            "No objects detected in image d966d43b-3e42-4046-9574-7ac2e04b272d.jpeg\n",
            "No objects detected in image 2ed8f37c-ac3f-4b60-8fc1-3c3f5a657c1d.jpeg\n",
            "No objects detected in image aeefa334-205c-496c-9bb2-83f6aee7d99f.jpeg\n",
            "No objects detected in image 68045492-e982-4d3a-97d8-b2f7eb90e247.jpeg\n",
            "No objects detected in image 2adccf29-951e-42bd-8795-a6bc60a5fc4e.jpeg\n",
            "No objects detected in image ed54afc9-50b5-41f9-ad19-f018b4487d50.jpeg\n",
            "No objects detected in image 7aca1a2e-9680-429b-9d6d-c0dfc60962ac.jpeg\n",
            "No objects detected in image ea1f20e6-3404-47e8-ba90-857dffd6ccc2.jpeg\n",
            "No objects detected in image 9f6fd219-98ea-4c46-a3aa-00cd94e59a0e.jpeg\n",
            "No objects detected in image 532b6908-1161-43ef-a0a0-1c6b3002fea5.jpeg\n",
            "No objects detected in image 93fb1020-2c9e-4812-a526-0eb03cf224b1.jpeg\n",
            "No objects detected in image 53ae27f3-ad17-41ed-bafa-16212e8e62a0.jpeg\n"
          ]
        }
      ],
      "source": [
        "test_yolo_csv = add_yolo_test_csv(test_path, yolo_model)"
      ]
    },
    {
      "cell_type": "code",
      "execution_count": 107,
      "metadata": {
        "colab": {
          "base_uri": "https://localhost:8080/",
          "height": 424
        },
        "id": "GYJ2FV4hIkc0",
        "outputId": "b1175480-3ec1-4503-d36d-69ea6c7c0f5d"
      },
      "outputs": [
        {
          "data": {
            "text/html": [
              "\n",
              "\n",
              "  <div id=\"df-73a92246-7c10-448a-a9b2-85364234f5b3\">\n",
              "    <div class=\"colab-df-container\">\n",
              "      <div>\n",
              "<style scoped>\n",
              "    .dataframe tbody tr th:only-of-type {\n",
              "        vertical-align: middle;\n",
              "    }\n",
              "\n",
              "    .dataframe tbody tr th {\n",
              "        vertical-align: top;\n",
              "    }\n",
              "\n",
              "    .dataframe thead th {\n",
              "        text-align: right;\n",
              "    }\n",
              "</style>\n",
              "<table border=\"1\" class=\"dataframe\">\n",
              "  <thead>\n",
              "    <tr style=\"text-align: right;\">\n",
              "      <th></th>\n",
              "      <th>img_fName</th>\n",
              "      <th>img_w</th>\n",
              "      <th>img_h</th>\n",
              "      <th>bbx_xtl</th>\n",
              "      <th>bbx_ytl</th>\n",
              "      <th>bbx_xbr</th>\n",
              "      <th>bbx_ybr</th>\n",
              "      <th>class_label</th>\n",
              "    </tr>\n",
              "  </thead>\n",
              "  <tbody>\n",
              "    <tr>\n",
              "      <th>0</th>\n",
              "      <td>ce8f0ede-4366-45b9-bdd4-959e17c7618c.jpeg</td>\n",
              "      <td>1599</td>\n",
              "      <td>965</td>\n",
              "      <td>643.0</td>\n",
              "      <td>287.0</td>\n",
              "      <td>1003.0</td>\n",
              "      <td>641.0</td>\n",
              "      <td>culex</td>\n",
              "    </tr>\n",
              "    <tr>\n",
              "      <th>1</th>\n",
              "      <td>f207780c-0d0a-4d41-bd95-92ca53ff81a3.jpeg</td>\n",
              "      <td>822</td>\n",
              "      <td>861</td>\n",
              "      <td>85.0</td>\n",
              "      <td>213.0</td>\n",
              "      <td>591.0</td>\n",
              "      <td>670.0</td>\n",
              "      <td>albopictus</td>\n",
              "    </tr>\n",
              "    <tr>\n",
              "      <th>2</th>\n",
              "      <td>99c6b7f9-dbea-4635-a18d-cde16b125515.jpeg</td>\n",
              "      <td>720</td>\n",
              "      <td>1280</td>\n",
              "      <td>218.0</td>\n",
              "      <td>541.0</td>\n",
              "      <td>569.0</td>\n",
              "      <td>811.0</td>\n",
              "      <td>albopictus</td>\n",
              "    </tr>\n",
              "    <tr>\n",
              "      <th>3</th>\n",
              "      <td>662b4405-3600-41b9-9812-451b6d9df322.jpeg</td>\n",
              "      <td>3024</td>\n",
              "      <td>4032</td>\n",
              "      <td>1651.0</td>\n",
              "      <td>1612.0</td>\n",
              "      <td>2229.0</td>\n",
              "      <td>2256.0</td>\n",
              "      <td>culex</td>\n",
              "    </tr>\n",
              "    <tr>\n",
              "      <th>4</th>\n",
              "      <td>1de14b6b-6781-4a24-ae5e-f760e865c758.jpeg</td>\n",
              "      <td>1242</td>\n",
              "      <td>2208</td>\n",
              "      <td>422.0</td>\n",
              "      <td>753.0</td>\n",
              "      <td>823.0</td>\n",
              "      <td>1038.0</td>\n",
              "      <td>albopictus</td>\n",
              "    </tr>\n",
              "    <tr>\n",
              "      <th>...</th>\n",
              "      <td>...</td>\n",
              "      <td>...</td>\n",
              "      <td>...</td>\n",
              "      <td>...</td>\n",
              "      <td>...</td>\n",
              "      <td>...</td>\n",
              "      <td>...</td>\n",
              "      <td>...</td>\n",
              "    </tr>\n",
              "    <tr>\n",
              "      <th>2671</th>\n",
              "      <td>5071a8e8-b210-4929-bf48-7bafb4b8ba06.jpeg</td>\n",
              "      <td>3840</td>\n",
              "      <td>5120</td>\n",
              "      <td>1051.0</td>\n",
              "      <td>2236.0</td>\n",
              "      <td>3001.0</td>\n",
              "      <td>3530.0</td>\n",
              "      <td>culex</td>\n",
              "    </tr>\n",
              "    <tr>\n",
              "      <th>2672</th>\n",
              "      <td>fd610106-3aff-4172-9e12-5037d107af30.jpeg</td>\n",
              "      <td>4000</td>\n",
              "      <td>3000</td>\n",
              "      <td>458.0</td>\n",
              "      <td>690.0</td>\n",
              "      <td>2863.0</td>\n",
              "      <td>2278.0</td>\n",
              "      <td>albopictus</td>\n",
              "    </tr>\n",
              "    <tr>\n",
              "      <th>2673</th>\n",
              "      <td>c0677977-ef6f-4397-b809-a7f7c29e54f6.jpeg</td>\n",
              "      <td>4032</td>\n",
              "      <td>2268</td>\n",
              "      <td>1731.0</td>\n",
              "      <td>992.0</td>\n",
              "      <td>2077.0</td>\n",
              "      <td>1436.0</td>\n",
              "      <td>culex</td>\n",
              "    </tr>\n",
              "    <tr>\n",
              "      <th>2674</th>\n",
              "      <td>df645ac5-dc5c-4549-95f2-7fbe1c4c4c90.jpeg</td>\n",
              "      <td>1078</td>\n",
              "      <td>1280</td>\n",
              "      <td>325.0</td>\n",
              "      <td>355.0</td>\n",
              "      <td>738.0</td>\n",
              "      <td>877.0</td>\n",
              "      <td>culex</td>\n",
              "    </tr>\n",
              "    <tr>\n",
              "      <th>2675</th>\n",
              "      <td>b5f6197b-925b-488b-b65f-b540412a96de.jpeg</td>\n",
              "      <td>768</td>\n",
              "      <td>1024</td>\n",
              "      <td>141.0</td>\n",
              "      <td>224.0</td>\n",
              "      <td>638.0</td>\n",
              "      <td>624.0</td>\n",
              "      <td>culex</td>\n",
              "    </tr>\n",
              "  </tbody>\n",
              "</table>\n",
              "<p>2676 rows × 8 columns</p>\n",
              "</div>\n",
              "      <button class=\"colab-df-convert\" onclick=\"convertToInteractive('df-73a92246-7c10-448a-a9b2-85364234f5b3')\"\n",
              "              title=\"Convert this dataframe to an interactive table.\"\n",
              "              style=\"display:none;\">\n",
              "\n",
              "  <svg xmlns=\"http://www.w3.org/2000/svg\" height=\"24px\"viewBox=\"0 0 24 24\"\n",
              "       width=\"24px\">\n",
              "    <path d=\"M0 0h24v24H0V0z\" fill=\"none\"/>\n",
              "    <path d=\"M18.56 5.44l.94 2.06.94-2.06 2.06-.94-2.06-.94-.94-2.06-.94 2.06-2.06.94zm-11 1L8.5 8.5l.94-2.06 2.06-.94-2.06-.94L8.5 2.5l-.94 2.06-2.06.94zm10 10l.94 2.06.94-2.06 2.06-.94-2.06-.94-.94-2.06-.94 2.06-2.06.94z\"/><path d=\"M17.41 7.96l-1.37-1.37c-.4-.4-.92-.59-1.43-.59-.52 0-1.04.2-1.43.59L10.3 9.45l-7.72 7.72c-.78.78-.78 2.05 0 2.83L4 21.41c.39.39.9.59 1.41.59.51 0 1.02-.2 1.41-.59l7.78-7.78 2.81-2.81c.8-.78.8-2.07 0-2.86zM5.41 20L4 18.59l7.72-7.72 1.47 1.35L5.41 20z\"/>\n",
              "  </svg>\n",
              "      </button>\n",
              "\n",
              "\n",
              "\n",
              "    <div id=\"df-8f8c2956-ce3a-4d46-9ed6-fc5ae2bf4fe7\">\n",
              "      <button class=\"colab-df-quickchart\" onclick=\"quickchart('df-8f8c2956-ce3a-4d46-9ed6-fc5ae2bf4fe7')\"\n",
              "              title=\"Suggest charts.\"\n",
              "              style=\"display:none;\">\n",
              "\n",
              "<svg xmlns=\"http://www.w3.org/2000/svg\" height=\"24px\"viewBox=\"0 0 24 24\"\n",
              "     width=\"24px\">\n",
              "    <g>\n",
              "        <path d=\"M19 3H5c-1.1 0-2 .9-2 2v14c0 1.1.9 2 2 2h14c1.1 0 2-.9 2-2V5c0-1.1-.9-2-2-2zM9 17H7v-7h2v7zm4 0h-2V7h2v10zm4 0h-2v-4h2v4z\"/>\n",
              "    </g>\n",
              "</svg>\n",
              "      </button>\n",
              "    </div>\n",
              "\n",
              "<style>\n",
              "  .colab-df-quickchart {\n",
              "    background-color: #E8F0FE;\n",
              "    border: none;\n",
              "    border-radius: 50%;\n",
              "    cursor: pointer;\n",
              "    display: none;\n",
              "    fill: #1967D2;\n",
              "    height: 32px;\n",
              "    padding: 0 0 0 0;\n",
              "    width: 32px;\n",
              "  }\n",
              "\n",
              "  .colab-df-quickchart:hover {\n",
              "    background-color: #E2EBFA;\n",
              "    box-shadow: 0px 1px 2px rgba(60, 64, 67, 0.3), 0px 1px 3px 1px rgba(60, 64, 67, 0.15);\n",
              "    fill: #174EA6;\n",
              "  }\n",
              "\n",
              "  [theme=dark] .colab-df-quickchart {\n",
              "    background-color: #3B4455;\n",
              "    fill: #D2E3FC;\n",
              "  }\n",
              "\n",
              "  [theme=dark] .colab-df-quickchart:hover {\n",
              "    background-color: #434B5C;\n",
              "    box-shadow: 0px 1px 3px 1px rgba(0, 0, 0, 0.15);\n",
              "    filter: drop-shadow(0px 1px 2px rgba(0, 0, 0, 0.3));\n",
              "    fill: #FFFFFF;\n",
              "  }\n",
              "</style>\n",
              "\n",
              "    <script>\n",
              "      async function quickchart(key) {\n",
              "        const containerElement = document.querySelector('#' + key);\n",
              "        const charts = await google.colab.kernel.invokeFunction(\n",
              "            'suggestCharts', [key], {});\n",
              "      }\n",
              "    </script>\n",
              "\n",
              "      <script>\n",
              "\n",
              "function displayQuickchartButton(domScope) {\n",
              "  let quickchartButtonEl =\n",
              "    domScope.querySelector('#df-8f8c2956-ce3a-4d46-9ed6-fc5ae2bf4fe7 button.colab-df-quickchart');\n",
              "  quickchartButtonEl.style.display =\n",
              "    google.colab.kernel.accessAllowed ? 'block' : 'none';\n",
              "}\n",
              "\n",
              "        displayQuickchartButton(document);\n",
              "      </script>\n",
              "      <style>\n",
              "    .colab-df-container {\n",
              "      display:flex;\n",
              "      flex-wrap:wrap;\n",
              "      gap: 12px;\n",
              "    }\n",
              "\n",
              "    .colab-df-convert {\n",
              "      background-color: #E8F0FE;\n",
              "      border: none;\n",
              "      border-radius: 50%;\n",
              "      cursor: pointer;\n",
              "      display: none;\n",
              "      fill: #1967D2;\n",
              "      height: 32px;\n",
              "      padding: 0 0 0 0;\n",
              "      width: 32px;\n",
              "    }\n",
              "\n",
              "    .colab-df-convert:hover {\n",
              "      background-color: #E2EBFA;\n",
              "      box-shadow: 0px 1px 2px rgba(60, 64, 67, 0.3), 0px 1px 3px 1px rgba(60, 64, 67, 0.15);\n",
              "      fill: #174EA6;\n",
              "    }\n",
              "\n",
              "    [theme=dark] .colab-df-convert {\n",
              "      background-color: #3B4455;\n",
              "      fill: #D2E3FC;\n",
              "    }\n",
              "\n",
              "    [theme=dark] .colab-df-convert:hover {\n",
              "      background-color: #434B5C;\n",
              "      box-shadow: 0px 1px 3px 1px rgba(0, 0, 0, 0.15);\n",
              "      filter: drop-shadow(0px 1px 2px rgba(0, 0, 0, 0.3));\n",
              "      fill: #FFFFFF;\n",
              "    }\n",
              "  </style>\n",
              "\n",
              "      <script>\n",
              "        const buttonEl =\n",
              "          document.querySelector('#df-73a92246-7c10-448a-a9b2-85364234f5b3 button.colab-df-convert');\n",
              "        buttonEl.style.display =\n",
              "          google.colab.kernel.accessAllowed ? 'block' : 'none';\n",
              "\n",
              "        async function convertToInteractive(key) {\n",
              "          const element = document.querySelector('#df-73a92246-7c10-448a-a9b2-85364234f5b3');\n",
              "          const dataTable =\n",
              "            await google.colab.kernel.invokeFunction('convertToInteractive',\n",
              "                                                     [key], {});\n",
              "          if (!dataTable) return;\n",
              "\n",
              "          const docLinkHtml = 'Like what you see? Visit the ' +\n",
              "            '<a target=\"_blank\" href=https://colab.research.google.com/notebooks/data_table.ipynb>data table notebook</a>'\n",
              "            + ' to learn more about interactive tables.';\n",
              "          element.innerHTML = '';\n",
              "          dataTable['output_type'] = 'display_data';\n",
              "          await google.colab.output.renderOutput(dataTable, element);\n",
              "          const docLink = document.createElement('div');\n",
              "          docLink.innerHTML = docLinkHtml;\n",
              "          element.appendChild(docLink);\n",
              "        }\n",
              "      </script>\n",
              "    </div>\n",
              "  </div>\n"
            ],
            "text/plain": [
              "                                      img_fName  img_w  img_h  bbx_xtl  \\\n",
              "0     ce8f0ede-4366-45b9-bdd4-959e17c7618c.jpeg   1599    965    643.0   \n",
              "1     f207780c-0d0a-4d41-bd95-92ca53ff81a3.jpeg    822    861     85.0   \n",
              "2     99c6b7f9-dbea-4635-a18d-cde16b125515.jpeg    720   1280    218.0   \n",
              "3     662b4405-3600-41b9-9812-451b6d9df322.jpeg   3024   4032   1651.0   \n",
              "4     1de14b6b-6781-4a24-ae5e-f760e865c758.jpeg   1242   2208    422.0   \n",
              "...                                         ...    ...    ...      ...   \n",
              "2671  5071a8e8-b210-4929-bf48-7bafb4b8ba06.jpeg   3840   5120   1051.0   \n",
              "2672  fd610106-3aff-4172-9e12-5037d107af30.jpeg   4000   3000    458.0   \n",
              "2673  c0677977-ef6f-4397-b809-a7f7c29e54f6.jpeg   4032   2268   1731.0   \n",
              "2674  df645ac5-dc5c-4549-95f2-7fbe1c4c4c90.jpeg   1078   1280    325.0   \n",
              "2675  b5f6197b-925b-488b-b65f-b540412a96de.jpeg    768   1024    141.0   \n",
              "\n",
              "      bbx_ytl  bbx_xbr  bbx_ybr class_label  \n",
              "0       287.0   1003.0    641.0       culex  \n",
              "1       213.0    591.0    670.0  albopictus  \n",
              "2       541.0    569.0    811.0  albopictus  \n",
              "3      1612.0   2229.0   2256.0       culex  \n",
              "4       753.0    823.0   1038.0  albopictus  \n",
              "...       ...      ...      ...         ...  \n",
              "2671   2236.0   3001.0   3530.0       culex  \n",
              "2672    690.0   2863.0   2278.0  albopictus  \n",
              "2673    992.0   2077.0   1436.0       culex  \n",
              "2674    355.0    738.0    877.0       culex  \n",
              "2675    224.0    638.0    624.0       culex  \n",
              "\n",
              "[2676 rows x 8 columns]"
            ]
          },
          "execution_count": 107,
          "metadata": {},
          "output_type": "execute_result"
        }
      ],
      "source": [
        "test_yolo_csv"
      ]
    },
    {
      "cell_type": "code",
      "execution_count": 106,
      "metadata": {
        "id": "E8-DP6AgNfd8"
      },
      "outputs": [],
      "source": [
        "desired_order = ['img_fName', 'img_w', 'img_h', 'bbx_xtl', 'bbx_ytl', 'bbx_xbr', 'bbx_ybr', 'class_label']\n",
        "test_yolo_csv = test_yolo_csv[desired_order]"
      ]
    },
    {
      "cell_type": "code",
      "execution_count": 108,
      "metadata": {
        "id": "G9iTknW0HYHc"
      },
      "outputs": [],
      "source": [
        "    # Save the updated DataFrame as submission.csv\n",
        "    test_yolo_csv.to_csv('/content/gdrive/MyDrive/Colab Notebooks/AI CROWD Mosquito/Models/test_csv_000.csv', index=False)"
      ]
    }
  ],
  "metadata": {
    "accelerator": "GPU",
    "colab": {
      "authorship_tag": "ABX9TyOiBS8sN6bDWhrgjlfA05sv",
      "cell_execution_strategy": "setup",
      "collapsed_sections": [
        "QFvJKN30SxOr"
      ],
      "gpuType": "T4",
      "include_colab_link": true,
      "mount_file_id": "1wx1XNUbPqeAM3EriwoN2VruP8hOqhjj5",
      "provenance": []
    },
    "kernelspec": {
      "display_name": "Python 3",
      "name": "python3"
    },
    "language_info": {
      "name": "python"
    }
  },
  "nbformat": 4,
  "nbformat_minor": 0
}
