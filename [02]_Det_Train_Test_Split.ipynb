{
  "nbformat": 4,
  "nbformat_minor": 0,
  "metadata": {
    "colab": {
      "provenance": [],
      "gpuType": "A100",
      "authorship_tag": "ABX9TyM8QGczmZTO4yllkvh5Yp4F",
      "include_colab_link": true
    },
    "kernelspec": {
      "name": "python3",
      "display_name": "Python 3"
    },
    "language_info": {
      "name": "python"
    }
  },
  "cells": [
    {
      "cell_type": "markdown",
      "metadata": {
        "id": "view-in-github",
        "colab_type": "text"
      },
      "source": [
        "<a href=\"https://colab.research.google.com/github/MuhammedShiway/AICrowd-Mosquito/blob/main/%5B02%5D_Det_Train_Test_Split.ipynb\" target=\"_parent\"><img src=\"https://colab.research.google.com/assets/colab-badge.svg\" alt=\"Open In Colab\"/></a>"
      ]
    },
    {
      "cell_type": "code",
      "execution_count": 2,
      "metadata": {
        "colab": {
          "base_uri": "https://localhost:8080/"
        },
        "id": "2OmkJYHP_SGc",
        "outputId": "05fc4e6d-df0e-48b3-d97b-dd94ea051cc5"
      },
      "outputs": [
        {
          "output_type": "stream",
          "name": "stdout",
          "text": [
            "Mounted at /content/gdrive\n"
          ]
        }
      ],
      "source": [
        "from google.colab import drive\n",
        "drive.mount('/content/gdrive')"
      ]
    },
    {
      "cell_type": "code",
      "source": [
        "data_path = '/content/gdrive/MyDrive/Colab Notebooks/AI CROWD Mosquito/Dataset/Original /train_images'\n",
        "train_csv_path = '/content/gdrive/MyDrive/Colab Notebooks/AI CROWD Mosquito/Dataset/Original /train.csv'\n",
        "yolo_train = '/content/gdrive/MyDrive/Colab Notebooks/AI CROWD Mosquito/Dataset/YOLO/Train'\n",
        "yolo_test = '/content/gdrive/MyDrive/Colab Notebooks/AI CROWD Mosquito/Dataset/YOLO/Test'"
      ],
      "metadata": {
        "id": "-SkX1ToQ_blE"
      },
      "execution_count": 3,
      "outputs": []
    },
    {
      "cell_type": "markdown",
      "source": [
        "\n",
        "\n",
        "---\n",
        "\n",
        "# <center> IMPORT MODULES AND LIBRARIES </center>\n",
        "\n",
        "\n",
        "---\n",
        "\n"
      ],
      "metadata": {
        "id": "7yi0_yUlAGmP"
      }
    },
    {
      "cell_type": "code",
      "source": [
        "import os\n",
        "import shutil\n",
        "import csv\n",
        "from sklearn.model_selection import train_test_split"
      ],
      "metadata": {
        "id": "aPFvEd68_9Ds"
      },
      "execution_count": 4,
      "outputs": []
    },
    {
      "cell_type": "markdown",
      "source": [
        "\n",
        "\n",
        "---\n",
        "\n",
        "# <center> TRAIN-TEST SPLIT </center>\n",
        "\n",
        "\n",
        "---\n",
        "\n"
      ],
      "metadata": {
        "id": "KR_GK_riZpCl"
      }
    },
    {
      "cell_type": "code",
      "source": [
        "# Paths\n",
        "source_folder = data_path\n",
        "train_folder = yolo_train\n",
        "test_folder = yolo_test\n",
        "csv_file = train_csv_path"
      ],
      "metadata": {
        "id": "Vx55hJXdAAky"
      },
      "execution_count": 5,
      "outputs": []
    },
    {
      "cell_type": "code",
      "source": [
        "# Create train and test folders if they don't exist\n",
        "os.makedirs(train_folder, exist_ok=True)\n",
        "os.makedirs(test_folder, exist_ok=True)\n",
        "\n",
        "# Read CSV file\n",
        "with open(csv_file, 'r') as file:\n",
        "    reader = csv.DictReader(file)\n",
        "    image_names = [row['img_fName'] for row in reader]\n"
      ],
      "metadata": {
        "id": "pT-7izhUglGL"
      },
      "execution_count": 5,
      "outputs": []
    },
    {
      "cell_type": "code",
      "source": [
        "# Split image names into train and test sets\n",
        "train_names, test_names = train_test_split(image_names, test_size=0.2, random_state=42)\n",
        "\n",
        "# Copy images to the train folder\n",
        "for image_name in train_names:\n",
        "    image_path = os.path.join(source_folder, image_name)\n",
        "    shutil.copy(image_path, train_folder)"
      ],
      "metadata": {
        "id": "RTYSl_lAgrso"
      },
      "execution_count": 6,
      "outputs": []
    },
    {
      "cell_type": "code",
      "source": [
        "# Copy images to the test folder\n",
        "for image_name in test_names:\n",
        "    image_path = os.path.join(source_folder, image_name)\n",
        "    shutil.copy(image_path, test_folder)\n",
        "\n",
        "print(\"Images copied successfully.\")\n"
      ],
      "metadata": {
        "colab": {
          "base_uri": "https://localhost:8080/"
        },
        "id": "y4cqKq0RgxQ2",
        "outputId": "043441b6-4bac-4174-f02c-3fe5b5398343"
      },
      "execution_count": 7,
      "outputs": [
        {
          "output_type": "stream",
          "name": "stdout",
          "text": [
            "Images copied successfully.\n"
          ]
        }
      ]
    },
    {
      "cell_type": "markdown",
      "source": [
        "\n",
        "\n",
        "---\n",
        "\n",
        "# <center> YOLO BBOX TXT  </center>\n",
        "\n",
        "\n",
        "---\n",
        "\n"
      ],
      "metadata": {
        "id": "dmxqp8hd04O3"
      }
    },
    {
      "cell_type": "code",
      "source": [
        "def annot_bbox(images_folder):\n",
        "  with open(csv_file, 'r') as file:\n",
        "      reader = csv.DictReader(file)\n",
        "      for row in reader:\n",
        "          image_name = row['img_fName']\n",
        "          image_path = os.path.join(images_folder, image_name)\n",
        "\n",
        "          txt_file_path = os.path.splitext(image_path)[0] + '.txt'\n",
        "\n",
        "          # Extract bounding box coordinates\n",
        "          img_w = int(row['img_w'])\n",
        "          img_h = int(row['img_h'])\n",
        "          bbx_xtl = float(row['bbx_xtl'])\n",
        "          bbx_ytl = float(row['bbx_ytl'])\n",
        "          bbx_xbr = float(row['bbx_xbr'])\n",
        "          bbx_ybr = float(row['bbx_ybr'])\n",
        "\n",
        "          # Calculate YOLOv8 format values\n",
        "          class_label = 0  # Replace with the appropriate class label\n",
        "          x_center = (bbx_xtl + bbx_xbr) / (2 * img_w)\n",
        "          y_center = (bbx_ytl + bbx_ybr) / (2 * img_h)\n",
        "          width = (bbx_xbr - bbx_xtl) / img_w\n",
        "          height = (bbx_ytl - bbx_ybr) / img_h\n",
        "\n",
        "          # Write to txt file\n",
        "          with open(txt_file_path, 'w') as txt_file:\n",
        "              txt_file.write(f\"{class_label} {x_center} {y_center} {width} {height}\")\n",
        "      print(\"Txt files generated successfully.\")\n"
      ],
      "metadata": {
        "id": "IK8Xu5O_kEx2"
      },
      "execution_count": 12,
      "outputs": []
    },
    {
      "cell_type": "code",
      "source": [
        "annot_bbox(images_folder = train_folder)"
      ],
      "metadata": {
        "colab": {
          "base_uri": "https://localhost:8080/"
        },
        "id": "hKPDSuWa1i_A",
        "outputId": "6c60a99a-751e-4be5-e751-29f1fdd87e00"
      },
      "execution_count": 14,
      "outputs": [
        {
          "output_type": "stream",
          "name": "stdout",
          "text": [
            "Txt files generated successfully.\n"
          ]
        }
      ]
    },
    {
      "cell_type": "code",
      "source": [
        "annot_bbox(images_folder = test_folder)"
      ],
      "metadata": {
        "colab": {
          "base_uri": "https://localhost:8080/"
        },
        "id": "T0xm7YUU2FaT",
        "outputId": "fd078a49-8012-439e-b4d7-69022deb0f6f"
      },
      "execution_count": 13,
      "outputs": [
        {
          "output_type": "stream",
          "name": "stdout",
          "text": [
            "Txt files generated successfully.\n"
          ]
        }
      ]
    },
    {
      "cell_type": "code",
      "source": [
        "folder_path = test_folder\n",
        "\n",
        "# Initialize counters\n",
        "image_count = 0\n",
        "txt_count = 0\n",
        "\n",
        "# List files in the folder\n",
        "files = os.listdir(folder_path)\n",
        "\n",
        "# Count images and txt files\n",
        "for file in files:\n",
        "    file_path = os.path.join(folder_path, file)\n",
        "    if os.path.isfile(file_path):\n",
        "        if file.lower().endswith(\".jpg\") or file.lower().endswith(\".jpeg\") or file.lower().endswith(\".png\"):\n",
        "            image_count += 1\n",
        "        elif file.lower().endswith(\".txt\"):\n",
        "            txt_count += 1\n",
        "\n",
        "print(\"Number of images:\", image_count)\n",
        "print(\"Number of txt files:\", txt_count)\n",
        "\n"
      ],
      "metadata": {
        "colab": {
          "base_uri": "https://localhost:8080/"
        },
        "id": "VlMbJAyx20K-",
        "outputId": "e8b4ba8b-2893-48a4-b807-bb15fd82128c"
      },
      "execution_count": 19,
      "outputs": [
        {
          "output_type": "stream",
          "name": "stdout",
          "text": [
            "Number of images: 1605\n",
            "Number of txt files: 8025\n"
          ]
        }
      ]
    },
    {
      "cell_type": "code",
      "source": [],
      "metadata": {
        "id": "jGJrR6GJ5Pl7"
      },
      "execution_count": null,
      "outputs": []
    }
  ]
}