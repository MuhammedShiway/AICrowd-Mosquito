{
  "cells": [
    {
      "cell_type": "markdown",
      "metadata": {
        "colab_type": "text",
        "id": "view-in-github"
      },
      "source": [
        "<a href=\"https://colab.research.google.com/github/MuhammedShiway/AICrowd-Mosquito/blob/main/%5B02%5D_Det_Train_Test_Split.ipynb\" target=\"_parent\"><img src=\"https://colab.research.google.com/assets/colab-badge.svg\" alt=\"Open In Colab\"/></a>"
      ]
    },
    {
      "cell_type": "code",
      "execution_count": 1,
      "metadata": {
        "colab": {
          "base_uri": "https://localhost:8080/"
        },
        "id": "2OmkJYHP_SGc",
        "outputId": "4627d66b-dd5f-4743-b293-cb3d59706a62"
      },
      "outputs": [
        {
          "name": "stdout",
          "output_type": "stream",
          "text": [
            "Mounted at /content/gdrive\n"
          ]
        }
      ],
      "source": [
        "from google.colab import drive\n",
        "drive.mount('/content/gdrive')"
      ]
    },
    {
      "cell_type": "code",
      "execution_count": 2,
      "metadata": {
        "id": "-SkX1ToQ_blE"
      },
      "outputs": [],
      "source": [
        "data_path = '/content/gdrive/MyDrive/Colab Notebooks/AI CROWD Mosquito/Dataset/Original /train_images'\n",
        "train_csv_path = '/content/gdrive/MyDrive/Colab Notebooks/AI CROWD Mosquito/Dataset/Original /train.csv'\n",
        "yolo_train = '/content/gdrive/MyDrive/Colab Notebooks/AI CROWD Mosquito/Dataset/YOLO/Train'\n",
        "yolo_test = '/content/gdrive/MyDrive/Colab Notebooks/AI CROWD Mosquito/Dataset/YOLO/Test'"
      ]
    },
    {
      "cell_type": "markdown",
      "metadata": {
        "id": "7yi0_yUlAGmP"
      },
      "source": [
        "\n",
        "\n",
        "---\n",
        "\n",
        "# <center> IMPORT MODULES AND LIBRARIES </center>\n",
        "\n",
        "\n",
        "---\n",
        "\n"
      ]
    },
    {
      "cell_type": "code",
      "execution_count": 3,
      "metadata": {
        "id": "aPFvEd68_9Ds"
      },
      "outputs": [],
      "source": [
        "import os\n",
        "import shutil\n",
        "import csv\n",
        "from sklearn.model_selection import train_test_split"
      ]
    },
    {
      "cell_type": "markdown",
      "metadata": {
        "id": "KR_GK_riZpCl"
      },
      "source": [
        "\n",
        "\n",
        "---\n",
        "\n",
        "# <center> TRAIN-TEST SPLIT </center>\n",
        "\n",
        "\n",
        "---\n",
        "\n"
      ]
    },
    {
      "cell_type": "code",
      "execution_count": 4,
      "metadata": {
        "id": "Vx55hJXdAAky"
      },
      "outputs": [],
      "source": [
        "# Paths\n",
        "source_folder = data_path\n",
        "train_folder = yolo_train\n",
        "test_folder = yolo_test\n",
        "csv_file = train_csv_path"
      ]
    },
    {
      "cell_type": "code",
      "execution_count": 6,
      "metadata": {
        "id": "pT-7izhUglGL"
      },
      "outputs": [],
      "source": [
        "os.makedirs(train_folder, exist_ok=True)\n",
        "os.makedirs(test_folder, exist_ok=True)\n",
        "\n",
        "with open(csv_file, 'r') as file:\n",
        "    reader = csv.DictReader(file)\n",
        "    image_names = [row['img_fName'] for row in reader]\n"
      ]
    },
    {
      "cell_type": "code",
      "execution_count": 7,
      "metadata": {
        "id": "RTYSl_lAgrso"
      },
      "outputs": [],
      "source": [
        "train_names, test_names = train_test_split(image_names, test_size=0.2, random_state=42)"
      ]
    },
    {
      "cell_type": "code",
      "execution_count": null,
      "metadata": {
        "id": "zIFNQEXxlJnY"
      },
      "outputs": [],
      "source": [
        "# Copy images to the train folder\n",
        "for image_name in train_names:\n",
        "    image_path = os.path.join(source_folder, image_name)\n",
        "    shutil.copy(image_path, train_folder)"
      ]
    },
    {
      "cell_type": "code",
      "execution_count": null,
      "metadata": {
        "colab": {
          "base_uri": "https://localhost:8080/"
        },
        "id": "y4cqKq0RgxQ2",
        "outputId": "043441b6-4bac-4174-f02c-3fe5b5398343"
      },
      "outputs": [
        {
          "name": "stdout",
          "output_type": "stream",
          "text": [
            "Images copied successfully.\n"
          ]
        }
      ],
      "source": [
        "# Copy images to the test folder\n",
        "for image_name in test_names:\n",
        "    image_path = os.path.join(source_folder, image_name)\n",
        "    shutil.copy(image_path, test_folder)\n",
        "\n",
        "print(\"Images copied successfully.\")\n"
      ]
    },
    {
      "cell_type": "markdown",
      "metadata": {
        "id": "dmxqp8hd04O3"
      },
      "source": [
        "\n",
        "\n",
        "---\n",
        "\n",
        "# <center> YOLO BBOX TXT  </center>\n",
        "\n",
        "\n",
        "---\n",
        "\n"
      ]
    },
    {
      "cell_type": "code",
      "execution_count": 8,
      "metadata": {
        "id": "IK8Xu5O_kEx2"
      },
      "outputs": [],
      "source": [
        "def annot_bbox(images_folder, csv_file, im_names):\n",
        "    with open(csv_file, 'r') as file:\n",
        "        reader = csv.DictReader(file)\n",
        "        for row in reader:\n",
        "            image_name = row['img_fName']\n",
        "            if image_name in im_names:\n",
        "                image_path = os.path.join(images_folder, image_name)\n",
        "\n",
        "                txt_file_path = os.path.splitext(image_path)[0] + '.txt'\n",
        "\n",
        "                # Extract bounding box coordinates\n",
        "                img_w = int(row['img_w'])\n",
        "                img_h = int(row['img_h'])\n",
        "                bbx_xtl = float(row['bbx_xtl'])\n",
        "                bbx_ytl = float(row['bbx_ytl'])\n",
        "                bbx_xbr = float(row['bbx_xbr'])\n",
        "                bbx_ybr = float(row['bbx_ybr'])\n",
        "\n",
        "                # Calculate YOLOv8 format values\n",
        "                class_label = 0  \n",
        "                x_center = (bbx_xtl + bbx_xbr) / (2 * img_w)\n",
        "                y_center = (bbx_ytl + bbx_ybr) / (2 * img_h)\n",
        "                width = (bbx_xbr - bbx_xtl) / img_w\n",
        "                height = (bbx_ytl - bbx_ybr) / img_h\n",
        "\n",
        "        \n",
        "                with open(txt_file_path, 'w') as txt_file:\n",
        "                    txt_file.write(f\"{class_label} {x_center} {y_center} {width} {height}\")\n",
        "        print(\"Txt files generated successfully.\")\n"
      ]
    },
    {
      "cell_type": "code",
      "execution_count": 9,
      "metadata": {
        "colab": {
          "base_uri": "https://localhost:8080/"
        },
        "id": "l2DHqSJxm_OQ",
        "outputId": "694b0b2c-8926-418f-dad1-7b192fe33881"
      },
      "outputs": [
        {
          "name": "stdout",
          "output_type": "stream",
          "text": [
            "Txt files generated successfully.\n"
          ]
        }
      ],
      "source": [
        "# Generate txt files for the train folder\n",
        "annot_bbox(train_folder, csv_file, train_names)"
      ]
    },
    {
      "cell_type": "code",
      "execution_count": 10,
      "metadata": {
        "colab": {
          "base_uri": "https://localhost:8080/"
        },
        "id": "hKPDSuWa1i_A",
        "outputId": "a2c10ca2-5792-4cd3-f640-316901a8c0ff"
      },
      "outputs": [
        {
          "name": "stdout",
          "output_type": "stream",
          "text": [
            "Txt files generated successfully.\n"
          ]
        }
      ],
      "source": [
        "# Generate txt files for the test folder\n",
        "annot_bbox(test_folder, csv_file, test_names)"
      ]
    },
    {
      "cell_type": "code",
      "execution_count": 8,
      "metadata": {
        "colab": {
          "base_uri": "https://localhost:8080/"
        },
        "id": "VlMbJAyx20K-",
        "outputId": "e25b3faf-ee06-4eae-b241-15566731f5b6"
      },
      "outputs": [
        {
          "name": "stdout",
          "output_type": "stream",
          "text": [
            "Number of images: 6420\n",
            "Number of txt files: 0\n"
          ]
        }
      ],
      "source": [
        "folder_path = train_folder\n",
        "image_count = 0\n",
        "txt_count = 0\n",
        "files = os.listdir(folder_path)\n",
        "for file in files:\n",
        "    file_path = os.path.join(folder_path, file)\n",
        "    if os.path.isfile(file_path):\n",
        "        if file.lower().endswith(\".jpg\") or file.lower().endswith(\".jpeg\") or file.lower().endswith(\".png\"):\n",
        "            image_count += 1\n",
        "        elif file.lower().endswith(\".txt\"):\n",
        "            txt_count += 1\n",
        "\n",
        "print(\"Number of images:\", image_count)\n",
        "print(\"Number of txt files:\", txt_count)\n",
        "\n"
      ]
    },
    {
      "cell_type": "code",
      "execution_count": 7,
      "metadata": {
        "colab": {
          "base_uri": "https://localhost:8080/"
        },
        "id": "jGJrR6GJ5Pl7",
        "outputId": "846789e4-837f-4cbf-b5b0-9a870935776a"
      },
      "outputs": [
        {
          "name": "stdout",
          "output_type": "stream",
          "text": [
            "Txt files deleted successfully.\n"
          ]
        }
      ],
      "source": [
        "folder_path = train_folder\n",
        "\n",
        "# Delete all txt files\n",
        "for file in files:\n",
        "    file_path = os.path.join(folder_path, file)\n",
        "    if os.path.isfile(file_path) and file.lower().endswith(\".txt\"):\n",
        "        os.remove(file_path)\n",
        "\n",
        "print(\"Txt files deleted successfully.\")\n"
      ]
    },
    {
      "cell_type": "code",
      "execution_count": null,
      "metadata": {
        "id": "UbfWYnpDS015"
      },
      "outputs": [],
      "source": []
    }
  ],
  "metadata": {
    "colab": {
      "authorship_tag": "ABX9TyP+2jUg+I3BCOoENXrGqAha",
      "gpuType": "A100",
      "include_colab_link": true,
      "provenance": []
    },
    "kernelspec": {
      "display_name": "Python 3",
      "name": "python3"
    },
    "language_info": {
      "name": "python"
    }
  },
  "nbformat": 4,
  "nbformat_minor": 0
}
