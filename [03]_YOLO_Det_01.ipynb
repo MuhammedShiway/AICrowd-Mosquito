{
  "nbformat": 4,
  "nbformat_minor": 0,
  "metadata": {
    "colab": {
      "provenance": [],
      "gpuType": "A100",
      "mount_file_id": "1wx1XNUbPqeAM3EriwoN2VruP8hOqhjj5",
      "authorship_tag": "ABX9TyNMnaELf8qLXWNPaNlFW/di",
      "include_colab_link": true
    },
    "kernelspec": {
      "name": "python3",
      "display_name": "Python 3"
    },
    "language_info": {
      "name": "python"
    },
    "accelerator": "GPU"
  },
  "cells": [
    {
      "cell_type": "markdown",
      "metadata": {
        "id": "view-in-github",
        "colab_type": "text"
      },
      "source": [
        "<a href=\"https://colab.research.google.com/github/MuhammedShiway/AICrowd-Mosquito/blob/main/%5B03%5D_YOLO_Det_01.ipynb\" target=\"_parent\"><img src=\"https://colab.research.google.com/assets/colab-badge.svg\" alt=\"Open In Colab\"/></a>"
      ]
    },
    {
      "cell_type": "code",
      "execution_count": 1,
      "metadata": {
        "colab": {
          "base_uri": "https://localhost:8080/"
        },
        "id": "2OmkJYHP_SGc",
        "outputId": "85655759-5a70-485c-f386-c82895e15163"
      },
      "outputs": [
        {
          "output_type": "stream",
          "name": "stdout",
          "text": [
            "Mounted at /content/gdrive\n"
          ]
        }
      ],
      "source": [
        "from google.colab import drive\n",
        "drive.mount('/content/gdrive')"
      ]
    },
    {
      "cell_type": "code",
      "source": [
        "data_path = '/content/gdrive/MyDrive/Colab Notebooks/AI CROWD Mosquito/Dataset/Original /train_images'\n",
        "train_csv_path = '/content/gdrive/MyDrive/Colab Notebooks/AI CROWD Mosquito/Dataset/Original /train.csv'\n",
        "yolo_train = '/content/gdrive/MyDrive/Colab Notebooks/AI CROWD Mosquito/Dataset/YOLO/Train'\n",
        "yolo_test = '/content/gdrive/MyDrive/Colab Notebooks/AI CROWD Mosquito/Dataset/YOLO/Test'"
      ],
      "metadata": {
        "id": "-SkX1ToQ_blE"
      },
      "execution_count": 2,
      "outputs": []
    },
    {
      "cell_type": "code",
      "source": [
        "# Paths\n",
        "source_folder = data_path\n",
        "train_folder = yolo_train\n",
        "test_folder = yolo_test\n",
        "csv_file = train_csv_path"
      ],
      "metadata": {
        "id": "0CbL6U-LTyKc"
      },
      "execution_count": 3,
      "outputs": []
    },
    {
      "cell_type": "markdown",
      "source": [
        "\n",
        "\n",
        "---\n",
        "\n",
        "# <center> IMPORT MODULES AND LIBRARIES </center>\n",
        "\n",
        "\n",
        "---\n",
        "\n"
      ],
      "metadata": {
        "id": "7yi0_yUlAGmP"
      }
    },
    {
      "cell_type": "code",
      "source": [
        "import os\n",
        "import random\n",
        "import shutil\n",
        "import csv\n",
        "from sklearn.model_selection import train_test_split"
      ],
      "metadata": {
        "id": "aPFvEd68_9Ds"
      },
      "execution_count": 4,
      "outputs": []
    },
    {
      "cell_type": "markdown",
      "source": [
        "\n",
        "\n",
        "---\n",
        "\n",
        "# <center> ANNOT BBOX </center>\n",
        "\n",
        "\n",
        "---\n",
        "\n"
      ],
      "metadata": {
        "id": "6TfT80MQTWcJ"
      }
    },
    {
      "cell_type": "code",
      "source": [
        "def annot_bbox(images_folder, csv_file, im_names):\n",
        "    with open(csv_file, 'r') as file:\n",
        "        reader = csv.DictReader(file)\n",
        "        for row in reader:\n",
        "            image_name = row['img_fName']\n",
        "            if image_name in im_names:\n",
        "                image_path = os.path.join(images_folder, image_name)\n",
        "\n",
        "                txt_file_path = os.path.splitext(image_path)[0] + '.txt'\n",
        "\n",
        "                # Extract bounding box coordinates\n",
        "                img_w = int(row['img_w'])\n",
        "                img_h = int(row['img_h'])\n",
        "                bbx_xtl = float(row['bbx_xtl'])\n",
        "                bbx_ytl = float(row['bbx_ytl'])\n",
        "                bbx_xbr = float(row['bbx_xbr'])\n",
        "                bbx_ybr = float(row['bbx_ybr'])\n",
        "\n",
        "                # Calculate YOLOv8 format values\n",
        "                class_label = 0  # Replace with the appropriate class label\n",
        "                x_center = (bbx_xtl + bbx_xbr) / (2 * img_w)\n",
        "                y_center = (bbx_ytl + bbx_ybr) / (2 * img_h)\n",
        "                width = abs((bbx_xbr - bbx_xtl) / img_w)\n",
        "                height = abs((bbx_ytl - bbx_ybr) / img_h)\n",
        "\n",
        "                # Write to txt file\n",
        "                with open(txt_file_path, 'w') as txt_file:\n",
        "                    txt_file.write(f\"{class_label} {x_center} {y_center} {width} {height}\")\n",
        "        print(\"Txt files generated successfully.\")\n"
      ],
      "metadata": {
        "id": "AHaGS1gPTcBt"
      },
      "execution_count": 12,
      "outputs": []
    },
    {
      "cell_type": "code",
      "source": [
        "\n",
        "# Read CSV file\n",
        "with open(csv_file, 'r') as file:\n",
        "    reader = csv.DictReader(file)\n",
        "    image_names = [row['img_fName'] for row in reader]\n",
        "\n",
        "# Split image names into train and test sets\n",
        "train_names, test_names = train_test_split(image_names, test_size=0.2, random_state=42)"
      ],
      "metadata": {
        "id": "qCpz-FIfUAfG"
      },
      "execution_count": 13,
      "outputs": []
    },
    {
      "cell_type": "code",
      "source": [
        "# Generate txt files for the train folder\n",
        "annot_bbox(train_folder, csv_file, train_names)"
      ],
      "metadata": {
        "colab": {
          "base_uri": "https://localhost:8080/"
        },
        "id": "4nEDqevgTq5o",
        "outputId": "1a66e79a-3b5f-46d2-af61-bf566b66f625"
      },
      "execution_count": 14,
      "outputs": [
        {
          "output_type": "stream",
          "name": "stdout",
          "text": [
            "Txt files generated successfully.\n"
          ]
        }
      ]
    },
    {
      "cell_type": "code",
      "source": [
        "# Generate txt files for the test folder\n",
        "annot_bbox(test_folder, csv_file, test_names)"
      ],
      "metadata": {
        "colab": {
          "base_uri": "https://localhost:8080/"
        },
        "id": "Q0Zc45QzTugF",
        "outputId": "153770ad-bc1f-4538-cfe2-fec51e93c9b1"
      },
      "execution_count": 15,
      "outputs": [
        {
          "output_type": "stream",
          "name": "stdout",
          "text": [
            "Txt files generated successfully.\n"
          ]
        }
      ]
    },
    {
      "cell_type": "code",
      "source": [
        "folder_path = test_folder\n",
        "\n",
        "# Initialize counters\n",
        "image_count = 0\n",
        "txt_count = 0\n",
        "\n",
        "# List files in the folder\n",
        "files = os.listdir(folder_path)\n",
        "\n",
        "# Count images and txt files\n",
        "for file in files:\n",
        "    file_path = os.path.join(folder_path, file)\n",
        "    if os.path.isfile(file_path):\n",
        "        if file.lower().endswith(\".jpg\") or file.lower().endswith(\".jpeg\") or file.lower().endswith(\".png\"):\n",
        "            image_count += 1\n",
        "        elif file.lower().endswith(\".txt\"):\n",
        "            txt_count += 1\n",
        "\n",
        "print(\"Number of images:\", image_count)\n",
        "print(\"Number of txt files:\", txt_count)\n",
        "\n"
      ],
      "metadata": {
        "colab": {
          "base_uri": "https://localhost:8080/"
        },
        "id": "6RwUpbfEjec0",
        "outputId": "0a99c06f-8625-4bfa-c8b0-b946c4b74e0c"
      },
      "execution_count": 11,
      "outputs": [
        {
          "output_type": "stream",
          "name": "stdout",
          "text": [
            "Number of images: 1605\n",
            "Number of txt files: 0\n"
          ]
        }
      ]
    },
    {
      "cell_type": "code",
      "source": [
        "folder_path = test_folder\n",
        "\n",
        "# Delete all txt files\n",
        "for file in files:\n",
        "    file_path = os.path.join(folder_path, file)\n",
        "    if os.path.isfile(file_path) and file.lower().endswith(\".txt\"):\n",
        "        os.remove(file_path)\n",
        "\n",
        "print(\"Txt files deleted successfully.\")"
      ],
      "metadata": {
        "colab": {
          "base_uri": "https://localhost:8080/"
        },
        "id": "_lXRAkLSUjRf",
        "outputId": "0761c73f-d029-44d3-ded5-4eb5b1083f5e"
      },
      "execution_count": 9,
      "outputs": [
        {
          "output_type": "stream",
          "name": "stdout",
          "text": [
            "Txt files deleted successfully.\n"
          ]
        }
      ]
    },
    {
      "cell_type": "markdown",
      "source": [
        "\n",
        "\n",
        "---\n",
        "\n",
        "# <center> Subset 1000 </center>\n",
        "\n",
        "\n",
        "---\n",
        "\n"
      ],
      "metadata": {
        "id": "KR_GK_riZpCl"
      }
    },
    {
      "cell_type": "code",
      "source": [
        "destination_folder = '/content/gdrive/MyDrive/Colab Notebooks/AI CROWD Mosquito/Dataset/YOLO/Train_100'\n",
        "num_images_to_copy = 1000\n",
        "\n",
        "# Create the destination folder if it doesn't exist\n",
        "os.makedirs(destination_folder, exist_ok=True)\n",
        "\n",
        "# Get a list of all image files in the source folder\n",
        "image_files = [file for file in os.listdir(train_folder) if file.lower().endswith((\".jpg\", \".jpeg\", \".png\"))]\n",
        "\n",
        "# Shuffle the image files\n",
        "random.shuffle(image_files)\n",
        "\n",
        "# Copy the selected number of images and their corresponding txt files\n",
        "for i in range(num_images_to_copy):\n",
        "    image_file = image_files[i]\n",
        "    image_path = os.path.join(train_folder, image_file)\n",
        "    txt_file = os.path.splitext(image_file)[0] + \".txt\"\n",
        "    txt_path = os.path.join(train_folder, txt_file)\n",
        "\n",
        "    # Copy the image file to the destination folder\n",
        "    shutil.copy(image_path, destination_folder)\n",
        "\n",
        "    # Copy the txt file to the destination folder\n",
        "    shutil.copy(txt_path, destination_folder)\n",
        "\n",
        "print(\"Images and corresponding txt files copied successfully.\")"
      ],
      "metadata": {
        "colab": {
          "base_uri": "https://localhost:8080/"
        },
        "id": "WXtS_PwwglxE",
        "outputId": "537bd921-0784-4df3-d646-dd2ed93fd5fa"
      },
      "execution_count": 16,
      "outputs": [
        {
          "output_type": "stream",
          "name": "stdout",
          "text": [
            "Images and corresponding txt files copied successfully.\n"
          ]
        }
      ]
    },
    {
      "cell_type": "markdown",
      "source": [
        "\n",
        "\n",
        "---\n",
        "\n",
        "# <center> YOLO V8 Training </center>\n",
        "\n",
        "\n",
        "---\n",
        "\n"
      ],
      "metadata": {
        "id": "ZsP5yhDSgqXL"
      }
    },
    {
      "cell_type": "code",
      "source": [
        "# SETUP\n",
        "\n",
        "%pip install ultralytics\n",
        "import ultralytics\n",
        "ultralytics.checks()"
      ],
      "metadata": {
        "id": "IK8Xu5O_kEx2",
        "colab": {
          "base_uri": "https://localhost:8080/"
        },
        "outputId": "4c8acd49-6703-40f3-b7bb-5efbe2d59d1a"
      },
      "execution_count": 17,
      "outputs": [
        {
          "output_type": "stream",
          "name": "stderr",
          "text": [
            "Ultralytics YOLOv8.0.124 🚀 Python-3.10.12 torch-2.0.1+cu118 CUDA:0 (NVIDIA A100-SXM4-40GB, 40514MiB)\n",
            "Setup complete ✅ (12 CPUs, 83.5 GB RAM, 31.2/78.2 GB disk)\n"
          ]
        }
      ]
    },
    {
      "cell_type": "code",
      "source": [
        "%cd /content/gdrive/MyDrive/Colab Notebooks/AI CROWD Mosquito/Dataset/YOLO/Training"
      ],
      "metadata": {
        "colab": {
          "base_uri": "https://localhost:8080/"
        },
        "id": "EhNzuQEs6Rkw",
        "outputId": "e32085f5-7168-46c3-b2eb-94bcc4dc0a59"
      },
      "execution_count": 18,
      "outputs": [
        {
          "output_type": "stream",
          "name": "stdout",
          "text": [
            "/content/gdrive/MyDrive/Colab Notebooks/AI CROWD Mosquito/Dataset/YOLO/Training\n"
          ]
        }
      ]
    },
    {
      "cell_type": "code",
      "source": [
        "!ls"
      ],
      "metadata": {
        "colab": {
          "base_uri": "https://localhost:8080/"
        },
        "id": "XbL4emWo7J2G",
        "outputId": "ad37e9ec-84c3-40da-88fb-f24841339f61"
      },
      "execution_count": 19,
      "outputs": [
        {
          "output_type": "stream",
          "name": "stdout",
          "text": [
            "data.yaml  runs  yolov8l.pt  yolov8n.pt  yolov8s.pt  yolov8x.pt\n"
          ]
        }
      ]
    },
    {
      "cell_type": "code",
      "source": [
        "#TRAIN THE MODEL\n",
        "\n",
        "!yolo task=detect mode=train model=yolov8x.pt data=data.yaml epochs=200 imgsz=384 plots=True"
      ],
      "metadata": {
        "colab": {
          "base_uri": "https://localhost:8080/"
        },
        "id": "jrESLTfP7Ngm",
        "outputId": "f0fd8634-c5fb-4484-d16d-42ee6d0d6da6"
      },
      "execution_count": null,
      "outputs": [
        {
          "output_type": "stream",
          "name": "stdout",
          "text": [
            "Ultralytics YOLOv8.0.124 🚀 Python-3.10.12 torch-2.0.1+cu118 CUDA:0 (NVIDIA A100-SXM4-40GB, 40514MiB)\n",
            "\u001b[34m\u001b[1myolo/engine/trainer: \u001b[0mtask=detect, mode=train, model=yolov8x.pt, data=data.yaml, epochs=200, patience=50, batch=16, imgsz=384, save=True, save_period=-1, cache=False, device=None, workers=8, project=None, name=None, exist_ok=False, pretrained=True, optimizer=auto, verbose=True, seed=0, deterministic=True, single_cls=False, rect=False, cos_lr=False, close_mosaic=0, resume=False, amp=True, fraction=1.0, profile=False, overlap_mask=True, mask_ratio=4, dropout=0.0, val=True, split=val, save_json=False, save_hybrid=False, conf=None, iou=0.7, max_det=300, half=False, dnn=False, plots=True, source=None, show=False, save_txt=False, save_conf=False, save_crop=False, show_labels=True, show_conf=True, vid_stride=1, line_width=None, visualize=False, augment=False, agnostic_nms=False, classes=None, retina_masks=False, boxes=True, format=torchscript, keras=False, optimize=False, int8=False, dynamic=False, simplify=False, opset=None, workspace=4, nms=False, lr0=0.01, lrf=0.01, momentum=0.937, weight_decay=0.0005, warmup_epochs=3.0, warmup_momentum=0.8, warmup_bias_lr=0.1, box=7.5, cls=0.5, dfl=1.5, pose=12.0, kobj=1.0, label_smoothing=0.0, nbs=64, hsv_h=0.015, hsv_s=0.7, hsv_v=0.4, degrees=0.0, translate=0.1, scale=0.5, shear=0.0, perspective=0.0, flipud=0.0, fliplr=0.5, mosaic=1.0, mixup=0.0, copy_paste=0.0, cfg=None, v5loader=False, tracker=botsort.yaml, save_dir=runs/detect/train5\n",
            "Downloading https://ultralytics.com/assets/Arial.ttf to /root/.config/Ultralytics/Arial.ttf...\n",
            "100% 755k/755k [00:00<00:00, 15.6MB/s]\n",
            "Overriding model.yaml nc=80 with nc=1\n",
            "\n",
            "                   from  n    params  module                                       arguments                     \n",
            "  0                  -1  1      2320  ultralytics.nn.modules.conv.Conv             [3, 80, 3, 2]                 \n",
            "  1                  -1  1    115520  ultralytics.nn.modules.conv.Conv             [80, 160, 3, 2]               \n",
            "  2                  -1  3    436800  ultralytics.nn.modules.block.C2f             [160, 160, 3, True]           \n",
            "  3                  -1  1    461440  ultralytics.nn.modules.conv.Conv             [160, 320, 3, 2]              \n",
            "  4                  -1  6   3281920  ultralytics.nn.modules.block.C2f             [320, 320, 6, True]           \n",
            "  5                  -1  1   1844480  ultralytics.nn.modules.conv.Conv             [320, 640, 3, 2]              \n",
            "  6                  -1  6  13117440  ultralytics.nn.modules.block.C2f             [640, 640, 6, True]           \n",
            "  7                  -1  1   3687680  ultralytics.nn.modules.conv.Conv             [640, 640, 3, 2]              \n",
            "  8                  -1  3   6969600  ultralytics.nn.modules.block.C2f             [640, 640, 3, True]           \n",
            "  9                  -1  1   1025920  ultralytics.nn.modules.block.SPPF            [640, 640, 5]                 \n",
            " 10                  -1  1         0  torch.nn.modules.upsampling.Upsample         [None, 2, 'nearest']          \n",
            " 11             [-1, 6]  1         0  ultralytics.nn.modules.conv.Concat           [1]                           \n",
            " 12                  -1  3   7379200  ultralytics.nn.modules.block.C2f             [1280, 640, 3]                \n",
            " 13                  -1  1         0  torch.nn.modules.upsampling.Upsample         [None, 2, 'nearest']          \n",
            " 14             [-1, 4]  1         0  ultralytics.nn.modules.conv.Concat           [1]                           \n",
            " 15                  -1  3   1948800  ultralytics.nn.modules.block.C2f             [960, 320, 3]                 \n",
            " 16                  -1  1    922240  ultralytics.nn.modules.conv.Conv             [320, 320, 3, 2]              \n",
            " 17            [-1, 12]  1         0  ultralytics.nn.modules.conv.Concat           [1]                           \n",
            " 18                  -1  3   7174400  ultralytics.nn.modules.block.C2f             [960, 640, 3]                 \n",
            " 19                  -1  1   3687680  ultralytics.nn.modules.conv.Conv             [640, 640, 3, 2]              \n",
            " 20             [-1, 9]  1         0  ultralytics.nn.modules.conv.Concat           [1]                           \n",
            " 21                  -1  3   7379200  ultralytics.nn.modules.block.C2f             [1280, 640, 3]                \n",
            " 22        [15, 18, 21]  1   8718931  ultralytics.nn.modules.head.Detect           [1, [320, 640, 640]]          \n",
            "Model summary: 365 layers, 68153571 parameters, 68153555 gradients\n",
            "\n",
            "Transferred 589/595 items from pretrained weights\n",
            "\u001b[34m\u001b[1mTensorBoard: \u001b[0mStart with 'tensorboard --logdir runs/detect/train5', view at http://localhost:6006/\n",
            "\u001b[34m\u001b[1mAMP: \u001b[0mrunning Automatic Mixed Precision (AMP) checks with YOLOv8n...\n",
            "\u001b[34m\u001b[1mAMP: \u001b[0mchecks passed ✅\n",
            "\u001b[34m\u001b[1mtrain: \u001b[0mScanning /content/gdrive/MyDrive/Colab Notebooks/AI CROWD Mosquito/Dataset/YOLO/Train_100... 1000 images, 0 backgrounds, 1 corrupt: 100% 1000/1000 [00:02<00:00, 435.78it/s]\n",
            "\u001b[34m\u001b[1mtrain: \u001b[0mWARNING ⚠️ /content/gdrive/MyDrive/Colab Notebooks/AI CROWD Mosquito/Dataset/YOLO/Train_100/120b30b0-c7db-4f0a-bead-a30424a65453.jpeg: ignoring corrupt image/label: non-normalized or out of bounds coordinates [     1.0068]\n",
            "\u001b[34m\u001b[1mtrain: \u001b[0mNew cache created: /content/gdrive/MyDrive/Colab Notebooks/AI CROWD Mosquito/Dataset/YOLO/Train_100.cache\n",
            "\u001b[34m\u001b[1malbumentations: \u001b[0mBlur(p=0.01, blur_limit=(3, 7)), MedianBlur(p=0.01, blur_limit=(3, 7)), ToGray(p=0.01), CLAHE(p=0.01, clip_limit=(1, 4.0), tile_grid_size=(8, 8))\n",
            "\u001b[34m\u001b[1mval: \u001b[0mScanning /content/gdrive/MyDrive/Colab Notebooks/AI CROWD Mosquito/Dataset/YOLO/Test... 1605 images, 0 backgrounds, 0 corrupt: 100% 1605/1605 [00:40<00:00, 39.36it/s] \n",
            "\u001b[34m\u001b[1mval: \u001b[0mNew cache created: /content/gdrive/MyDrive/Colab Notebooks/AI CROWD Mosquito/Dataset/YOLO/Test.cache\n",
            "Plotting labels to runs/detect/train5/labels.jpg... \n",
            "\u001b[34m\u001b[1moptimizer:\u001b[0m AdamW(lr=0.002, momentum=0.9) with parameter groups 97 weight(decay=0.0), 104 weight(decay=0.0005), 103 bias(decay=0.0)\n",
            "Image sizes 384 train, 384 val\n",
            "Using 8 dataloader workers\n",
            "Logging results to \u001b[1mruns/detect/train5\u001b[0m\n",
            "Starting training for 200 epochs...\n",
            "\n",
            "      Epoch    GPU_mem   box_loss   cls_loss   dfl_loss  Instances       Size\n",
            "      1/200      5.52G      1.721      1.929       1.72         17        384: 100% 63/63 [00:18<00:00,  3.45it/s]\n",
            "                 Class     Images  Instances      Box(P          R      mAP50  mAP50-95): 100% 51/51 [00:21<00:00,  2.42it/s]\n",
            "                   all       1605       1605   0.000893     0.0106   0.000459    0.00019\n",
            "\n",
            "      Epoch    GPU_mem   box_loss   cls_loss   dfl_loss  Instances       Size\n",
            "      2/200       5.9G      1.873      1.654      1.886         14        384: 100% 63/63 [00:13<00:00,  4.83it/s]\n",
            "                 Class     Images  Instances      Box(P          R      mAP50  mAP50-95): 100% 51/51 [00:20<00:00,  2.47it/s]\n",
            "                   all       1605       1605    0.00168      0.229    0.00106   0.000443\n",
            "\n",
            "      Epoch    GPU_mem   box_loss   cls_loss   dfl_loss  Instances       Size\n",
            "      3/200      5.92G      1.882      1.578      1.865         13        384: 100% 63/63 [00:13<00:00,  4.57it/s]\n",
            "                 Class     Images  Instances      Box(P          R      mAP50  mAP50-95): 100% 51/51 [00:20<00:00,  2.48it/s]\n",
            "                   all       1605       1605    0.00689      0.302    0.00432    0.00162\n",
            "\n",
            "      Epoch    GPU_mem   box_loss   cls_loss   dfl_loss  Instances       Size\n",
            "      4/200      5.93G      1.793      1.508      1.813         19        384: 100% 63/63 [00:15<00:00,  4.14it/s]\n",
            "                 Class     Images  Instances      Box(P          R      mAP50  mAP50-95): 100% 51/51 [00:19<00:00,  2.59it/s]\n",
            "                   all       1605       1605     0.0975      0.126     0.0386     0.0156\n",
            "\n",
            "      Epoch    GPU_mem   box_loss   cls_loss   dfl_loss  Instances       Size\n",
            "      5/200      5.95G      1.744      1.425      1.739         15        384: 100% 63/63 [00:15<00:00,  3.95it/s]\n",
            "                 Class     Images  Instances      Box(P          R      mAP50  mAP50-95): 100% 51/51 [00:20<00:00,  2.50it/s]\n",
            "                   all       1605       1605      0.603      0.591      0.593      0.266\n",
            "\n",
            "      Epoch    GPU_mem   box_loss   cls_loss   dfl_loss  Instances       Size\n",
            "      6/200      5.95G      1.706      1.397      1.715         16        384: 100% 63/63 [00:13<00:00,  4.66it/s]\n",
            "                 Class     Images  Instances      Box(P          R      mAP50  mAP50-95): 100% 51/51 [00:20<00:00,  2.49it/s]\n",
            "                   all       1605       1605      0.721      0.594      0.646      0.327\n",
            "\n",
            "      Epoch    GPU_mem   box_loss   cls_loss   dfl_loss  Instances       Size\n",
            "      7/200      5.93G      1.583      1.233      1.635         19        384: 100% 63/63 [00:15<00:00,  4.13it/s]\n",
            "                 Class     Images  Instances      Box(P          R      mAP50  mAP50-95): 100% 51/51 [00:20<00:00,  2.53it/s]\n",
            "                   all       1605       1605      0.779      0.708      0.773      0.397\n",
            "\n",
            "      Epoch    GPU_mem   box_loss   cls_loss   dfl_loss  Instances       Size\n",
            "      8/200      5.93G      1.614       1.21      1.662         15        384: 100% 63/63 [00:14<00:00,  4.33it/s]\n",
            "                 Class     Images  Instances      Box(P          R      mAP50  mAP50-95): 100% 51/51 [00:20<00:00,  2.47it/s]\n",
            "                   all       1605       1605      0.768      0.636      0.712      0.383\n",
            "\n",
            "      Epoch    GPU_mem   box_loss   cls_loss   dfl_loss  Instances       Size\n",
            "      9/200      5.93G      1.576        1.2      1.635         12        384: 100% 63/63 [00:15<00:00,  4.05it/s]\n",
            "                 Class     Images  Instances      Box(P          R      mAP50  mAP50-95): 100% 51/51 [00:20<00:00,  2.51it/s]\n",
            "                   all       1605       1605      0.734      0.723       0.77      0.445\n",
            "\n",
            "      Epoch    GPU_mem   box_loss   cls_loss   dfl_loss  Instances       Size\n",
            "     10/200      5.95G      1.567       1.22       1.63         15        384: 100% 63/63 [00:12<00:00,  4.93it/s]\n",
            "                 Class     Images  Instances      Box(P          R      mAP50  mAP50-95): 100% 51/51 [00:20<00:00,  2.52it/s]\n",
            "                   all       1605       1605      0.851      0.744       0.84      0.498\n",
            "\n",
            "      Epoch    GPU_mem   box_loss   cls_loss   dfl_loss  Instances       Size\n",
            "     11/200      5.93G      1.548      1.193      1.627         19        384: 100% 63/63 [00:15<00:00,  4.19it/s]\n",
            "                 Class     Images  Instances      Box(P          R      mAP50  mAP50-95): 100% 51/51 [00:20<00:00,  2.43it/s]\n",
            "                   all       1605       1605       0.85      0.785      0.863      0.506\n",
            "\n",
            "      Epoch    GPU_mem   box_loss   cls_loss   dfl_loss  Instances       Size\n",
            "     12/200      5.91G      1.463      1.073       1.56         10        384: 100% 63/63 [00:14<00:00,  4.34it/s]\n",
            "                 Class     Images  Instances      Box(P          R      mAP50  mAP50-95): 100% 51/51 [00:20<00:00,  2.44it/s]\n",
            "                   all       1605       1605      0.808      0.773      0.828      0.459\n",
            "\n",
            "      Epoch    GPU_mem   box_loss   cls_loss   dfl_loss  Instances       Size\n",
            "     13/200      5.93G      1.454      1.066      1.522         17        384: 100% 63/63 [00:14<00:00,  4.33it/s]\n",
            "                 Class     Images  Instances      Box(P          R      mAP50  mAP50-95): 100% 51/51 [00:20<00:00,  2.52it/s]\n",
            "                   all       1605       1605      0.841      0.771      0.841       0.49\n",
            "\n",
            "      Epoch    GPU_mem   box_loss   cls_loss   dfl_loss  Instances       Size\n",
            "     14/200      5.93G      1.438      1.035      1.551         16        384: 100% 63/63 [00:16<00:00,  3.94it/s]\n",
            "                 Class     Images  Instances      Box(P          R      mAP50  mAP50-95): 100% 51/51 [00:20<00:00,  2.44it/s]\n",
            "                   all       1605       1605      0.849      0.792      0.864      0.544\n",
            "\n",
            "      Epoch    GPU_mem   box_loss   cls_loss   dfl_loss  Instances       Size\n",
            "     15/200      5.93G      1.435      1.012      1.527         14        384: 100% 63/63 [00:13<00:00,  4.76it/s]\n",
            "                 Class     Images  Instances      Box(P          R      mAP50  mAP50-95): 100% 51/51 [00:20<00:00,  2.51it/s]\n",
            "                   all       1605       1605      0.832      0.788      0.848      0.494\n",
            "\n",
            "      Epoch    GPU_mem   box_loss   cls_loss   dfl_loss  Instances       Size\n",
            "     16/200      5.92G      1.447      1.047      1.554         17        384: 100% 63/63 [00:16<00:00,  3.85it/s]\n",
            "                 Class     Images  Instances      Box(P          R      mAP50  mAP50-95): 100% 51/51 [00:21<00:00,  2.37it/s]\n",
            "                   all       1605       1605      0.846      0.807      0.874      0.563\n",
            "\n",
            "      Epoch    GPU_mem   box_loss   cls_loss   dfl_loss  Instances       Size\n",
            "     17/200      5.93G      1.416      1.026      1.515         11        384: 100% 63/63 [00:14<00:00,  4.38it/s]\n",
            "                 Class     Images  Instances      Box(P          R      mAP50  mAP50-95): 100% 51/51 [00:21<00:00,  2.37it/s]\n",
            "                   all       1605       1605       0.82      0.812       0.86      0.524\n",
            "\n",
            "      Epoch    GPU_mem   box_loss   cls_loss   dfl_loss  Instances       Size\n",
            "     18/200      5.94G      1.428      1.022       1.53         22        384: 100% 63/63 [00:15<00:00,  4.08it/s]\n",
            "                 Class     Images  Instances      Box(P          R      mAP50  mAP50-95): 100% 51/51 [00:20<00:00,  2.54it/s]\n",
            "                   all       1605       1605      0.824      0.783      0.865      0.518\n",
            "\n",
            "      Epoch    GPU_mem   box_loss   cls_loss   dfl_loss  Instances       Size\n",
            "     19/200      5.93G      1.382     0.9736       1.49         11        384: 100% 63/63 [00:15<00:00,  4.04it/s]\n",
            "                 Class     Images  Instances      Box(P          R      mAP50  mAP50-95): 100% 51/51 [00:20<00:00,  2.48it/s]\n",
            "                   all       1605       1605      0.847      0.814      0.872      0.533\n",
            "\n",
            "      Epoch    GPU_mem   box_loss   cls_loss   dfl_loss  Instances       Size\n",
            "     20/200      5.93G      1.398     0.9701      1.509         12        384: 100% 63/63 [00:15<00:00,  4.19it/s]\n",
            "                 Class     Images  Instances      Box(P          R      mAP50  mAP50-95): 100% 51/51 [00:20<00:00,  2.52it/s]\n",
            "                   all       1605       1605      0.872      0.818       0.89      0.568\n",
            "\n",
            "      Epoch    GPU_mem   box_loss   cls_loss   dfl_loss  Instances       Size\n",
            "     21/200      5.93G        1.4     0.9333      1.501         13        384: 100% 63/63 [00:13<00:00,  4.75it/s]\n",
            "                 Class     Images  Instances      Box(P          R      mAP50  mAP50-95): 100% 51/51 [00:20<00:00,  2.51it/s]\n",
            "                   all       1605       1605      0.868      0.843      0.903      0.591\n",
            "\n",
            "      Epoch    GPU_mem   box_loss   cls_loss   dfl_loss  Instances       Size\n",
            "     22/200      5.95G      1.388     0.9551      1.508         19        384: 100% 63/63 [00:13<00:00,  4.64it/s]\n",
            "                 Class     Images  Instances      Box(P          R      mAP50  mAP50-95): 100% 51/51 [00:20<00:00,  2.53it/s]\n",
            "                   all       1605       1605      0.871      0.874      0.909      0.572\n",
            "\n",
            "      Epoch    GPU_mem   box_loss   cls_loss   dfl_loss  Instances       Size\n",
            "     23/200      5.94G      1.397     0.9527      1.507         14        384: 100% 63/63 [00:15<00:00,  4.10it/s]\n",
            "                 Class     Images  Instances      Box(P          R      mAP50  mAP50-95): 100% 51/51 [00:20<00:00,  2.51it/s]\n",
            "                   all       1605       1605      0.867      0.862      0.909      0.575\n",
            "\n",
            "      Epoch    GPU_mem   box_loss   cls_loss   dfl_loss  Instances       Size\n",
            "     24/200      5.91G       1.37     0.8969      1.485         16        384: 100% 63/63 [00:15<00:00,  4.03it/s]\n",
            "                 Class     Images  Instances      Box(P          R      mAP50  mAP50-95): 100% 51/51 [00:20<00:00,  2.47it/s]\n",
            "                   all       1605       1605      0.865      0.854      0.905      0.578\n",
            "\n",
            "      Epoch    GPU_mem   box_loss   cls_loss   dfl_loss  Instances       Size\n",
            "     25/200      5.93G      1.357     0.9208      1.475         15        384: 100% 63/63 [00:15<00:00,  4.13it/s]\n",
            "                 Class     Images  Instances      Box(P          R      mAP50  mAP50-95): 100% 51/51 [00:20<00:00,  2.54it/s]\n",
            "                   all       1605       1605      0.843      0.823      0.882      0.527\n",
            "\n",
            "      Epoch    GPU_mem   box_loss   cls_loss   dfl_loss  Instances       Size\n",
            "     26/200      5.94G      1.351     0.9116      1.481         10        384: 100% 63/63 [00:15<00:00,  3.99it/s]\n",
            "                 Class     Images  Instances      Box(P          R      mAP50  mAP50-95): 100% 51/51 [00:20<00:00,  2.52it/s]\n",
            "                   all       1605       1605      0.855      0.855      0.902       0.55\n",
            "\n",
            "      Epoch    GPU_mem   box_loss   cls_loss   dfl_loss  Instances       Size\n",
            "     27/200      5.95G      1.302     0.8737      1.448         16        384: 100% 63/63 [00:17<00:00,  3.61it/s]\n",
            "                 Class     Images  Instances      Box(P          R      mAP50  mAP50-95): 100% 51/51 [00:20<00:00,  2.50it/s]\n",
            "                   all       1605       1605      0.902      0.855      0.916      0.586\n",
            "\n",
            "      Epoch    GPU_mem   box_loss   cls_loss   dfl_loss  Instances       Size\n",
            "     28/200      5.93G      1.311     0.8751      1.459         13        384: 100% 63/63 [00:16<00:00,  3.90it/s]\n",
            "                 Class     Images  Instances      Box(P          R      mAP50  mAP50-95): 100% 51/51 [00:20<00:00,  2.52it/s]\n",
            "                   all       1605       1605       0.86      0.851      0.903      0.562\n",
            "\n",
            "      Epoch    GPU_mem   box_loss   cls_loss   dfl_loss  Instances       Size\n",
            "     29/200      5.94G      1.316     0.8692      1.442         13        384: 100% 63/63 [00:14<00:00,  4.37it/s]\n",
            "                 Class     Images  Instances      Box(P          R      mAP50  mAP50-95): 100% 51/51 [00:19<00:00,  2.55it/s]\n",
            "                   all       1605       1605      0.884      0.833      0.898      0.556\n",
            "\n",
            "      Epoch    GPU_mem   box_loss   cls_loss   dfl_loss  Instances       Size\n",
            "     30/200      5.93G      1.337     0.8947      1.455         14        384: 100% 63/63 [00:14<00:00,  4.25it/s]\n",
            "                 Class     Images  Instances      Box(P          R      mAP50  mAP50-95):   4% 2/51 [00:00<00:12,  3.82it/s]"
          ]
        }
      ]
    },
    {
      "cell_type": "code",
      "source": [],
      "metadata": {
        "id": "TXgzvHEs9air"
      },
      "execution_count": null,
      "outputs": []
    }
  ]
}